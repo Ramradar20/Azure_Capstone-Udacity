{
 "cells": [
  {
   "cell_type": "markdown",
   "metadata": {},
   "source": [
    "# Automated ML\n",
    "\n",
    "TODO: Import Dependencies. In the cell below, import all the dependencies that you will need to complete the project."
   ]
  },
  {
   "cell_type": "code",
   "execution_count": 1,
   "metadata": {
    "gather": {
     "logged": 1598423888013
    },
    "jupyter": {
     "outputs_hidden": false,
     "source_hidden": false
    },
    "nteract": {
     "transient": {
      "deleting": false
     }
    }
   },
   "outputs": [
    {
     "name": "stdout",
     "output_type": "stream",
     "text": [
      "Workspace name: quick-starts-ws-121947\n",
      "Azure region: southcentralus\n",
      "Subscription id: a7e82b92-bbed-4497-a8df-009b71b94f9c\n",
      "Resource group: aml-quickstarts-121947\n"
     ]
    }
   ],
   "source": [
    "from azureml.core import Workspace, Experiment\n",
    "\n",
    "ws = Workspace.get(name=\"quick-starts-ws-121947\")\n",
    "exp = Experiment(workspace=ws, name=\"udacity-project\")\n",
    "\n",
    "print('Workspace name: ' + ws.name, \n",
    "      'Azure region: ' + ws.location, \n",
    "      'Subscription id: ' + ws.subscription_id, \n",
    "      'Resource group: ' + ws.resource_group, sep = '\\n')\n",
    "\n",
    "run = exp.start_logging()"
   ]
  },
  {
   "cell_type": "code",
   "execution_count": 2,
   "metadata": {},
   "outputs": [
    {
     "name": "stdout",
     "output_type": "stream",
     "text": [
      "Creating\n",
      "Succeeded\n",
      "AmlCompute wait for completion finished\n",
      "\n",
      "Minimum number of nodes requested have been provisioned\n"
     ]
    }
   ],
   "source": [
    "from azureml.core.compute import ComputeTarget, AmlCompute\n",
    "from azureml.core.compute_target import ComputeTargetException\n",
    "\n",
    "# Choose a name for your CPU cluster\n",
    "amlcompute_cluster_name = \"cpu-cluster\"\n",
    "\n",
    "# Verify that cluster does not exist already\n",
    "try:\n",
    "    aml_compute = ComputeTarget(workspace=ws, name=amlcompute_cluster_name)\n",
    "    print('Found existing cluster, use it.')\n",
    "except ComputeTargetException:\n",
    "    compute_config = AmlCompute.provisioning_configuration(vm_size='STANDARD_DS3_V2',\n",
    "                                                           max_nodes=4)\n",
    "    aml_compute = ComputeTarget.create(ws, amlcompute_cluster_name, compute_config)\n",
    "\n",
    "aml_compute.wait_for_completion(show_output=True)"
   ]
  },
  {
   "cell_type": "code",
   "execution_count": 3,
   "metadata": {},
   "outputs": [],
   "source": [
    "from azureml.data.dataset_factory import TabularDatasetFactory\n",
    "from azureml.data.dataset_factory import TabularDatasetFactory\n",
    "from azureml.core.dataset import Dataset\n",
    "from sklearn import metrics\n",
    "from sklearn.model_selection import train_test_split\n",
    "from sklearn.linear_model import LogisticRegression\n",
    "from sklearn.ensemble import RandomForestClassifier\n",
    "import argparse\n",
    "import os\n",
    "import numpy as np\n",
    "from sklearn.metrics import mean_squared_error\n",
    "import joblib\n",
    "from sklearn.model_selection import train_test_split\n",
    "from sklearn.preprocessing import OneHotEncoder\n",
    "import pandas as pd\n",
    "from sklearn.preprocessing import LabelEncoder\n",
    "from azureml.core.run import Run\n",
    "from azureml.data.dataset_factory import TabularDatasetFactory\n",
    "from azureml.core.dataset import Dataset"
   ]
  },
  {
   "cell_type": "markdown",
   "metadata": {},
   "source": [
    "## Data Preparation"
   ]
  },
  {
   "cell_type": "code",
   "execution_count": 5,
   "metadata": {},
   "outputs": [],
   "source": [
    "\n",
    "# Create TabularDataset using TabularDatasetFactory\n",
    "# Data is available at: \n",
    "# \"https://automlsamplenotebookdata.blob.core.windows.net/automl-sample-notebook-data/bankmarketing_train.csv\"\n",
    "\n",
    "### YOUR CODE HERE ###\n",
    "datasetUrl = \"https://www.unsw.adfa.edu.au/unsw-canberra-cyber/cybersecurity/ADFA-NB15-Datasets/a%20part%20of%20training%20and%20testing%20set/UNSW_NB15_training-set.csv\"\n",
    "\n",
    "ds = Dataset.Tabular.from_delimited_files(datasetUrl)\n"
   ]
  },
  {
   "cell_type": "code",
   "execution_count": 7,
   "metadata": {},
   "outputs": [],
   "source": [
    "def clean_data(data):\n",
    "\n",
    "    x_df = data.to_pandas_dataframe().dropna()\n",
    "\n",
    "    x_df = x_df.drop(['attack_cat'] , axis=1)\n",
    "    x_df.service = LabelEncoder().fit_transform(x_df.service)\n",
    "    x_df.state = LabelEncoder().fit_transform(x_df.state)\n",
    "    x_df.proto = x_df.proto.replace(x_df.proto.value_counts())\n",
    "    y_df = x_df.pop(\"label\")\n",
    "    \n",
    "    return x_df , y_df"
   ]
  },
  {
   "cell_type": "code",
   "execution_count": 9,
   "metadata": {},
   "outputs": [],
   "source": [
    "#from train import clean_data\n",
    "\n",
    "# Use the clean_data function to clean your data.\n",
    "x, y = clean_data(ds)\n",
    "\n",
    "data = pd.concat([x,y] , axis=1)\n",
    "\n",
    "trainData , testData =  train_test_split( data, test_size=0.3, random_state=123)"
   ]
  },
  {
   "cell_type": "code",
   "execution_count": 10,
   "metadata": {},
   "outputs": [
    {
     "data": {
      "text/html": [
       "<div>\n",
       "<style scoped>\n",
       "    .dataframe tbody tr th:only-of-type {\n",
       "        vertical-align: middle;\n",
       "    }\n",
       "\n",
       "    .dataframe tbody tr th {\n",
       "        vertical-align: top;\n",
       "    }\n",
       "\n",
       "    .dataframe thead th {\n",
       "        text-align: right;\n",
       "    }\n",
       "</style>\n",
       "<table border=\"1\" class=\"dataframe\">\n",
       "  <thead>\n",
       "    <tr style=\"text-align: right;\">\n",
       "      <th></th>\n",
       "      <th>id</th>\n",
       "      <th>dur</th>\n",
       "      <th>proto</th>\n",
       "      <th>service</th>\n",
       "      <th>state</th>\n",
       "      <th>spkts</th>\n",
       "      <th>dpkts</th>\n",
       "      <th>sbytes</th>\n",
       "      <th>dbytes</th>\n",
       "      <th>rate</th>\n",
       "      <th>...</th>\n",
       "      <th>ct_src_dport_ltm</th>\n",
       "      <th>ct_dst_sport_ltm</th>\n",
       "      <th>ct_dst_src_ltm</th>\n",
       "      <th>is_ftp_login</th>\n",
       "      <th>ct_ftp_cmd</th>\n",
       "      <th>ct_flw_http_mthd</th>\n",
       "      <th>ct_src_ltm</th>\n",
       "      <th>ct_srv_dst</th>\n",
       "      <th>is_sm_ips_ports</th>\n",
       "      <th>label</th>\n",
       "    </tr>\n",
       "  </thead>\n",
       "  <tbody>\n",
       "    <tr>\n",
       "      <th>84472</th>\n",
       "      <td>84473</td>\n",
       "      <td>1.209230</td>\n",
       "      <td>79946</td>\n",
       "      <td>0</td>\n",
       "      <td>2</td>\n",
       "      <td>10</td>\n",
       "      <td>8</td>\n",
       "      <td>2676</td>\n",
       "      <td>354</td>\n",
       "      <td>14.058534</td>\n",
       "      <td>...</td>\n",
       "      <td>1</td>\n",
       "      <td>1</td>\n",
       "      <td>1</td>\n",
       "      <td>0</td>\n",
       "      <td>0</td>\n",
       "      <td>0</td>\n",
       "      <td>1</td>\n",
       "      <td>2</td>\n",
       "      <td>0</td>\n",
       "      <td>0</td>\n",
       "    </tr>\n",
       "    <tr>\n",
       "      <th>148889</th>\n",
       "      <td>148890</td>\n",
       "      <td>0.000009</td>\n",
       "      <td>63283</td>\n",
       "      <td>2</td>\n",
       "      <td>3</td>\n",
       "      <td>2</td>\n",
       "      <td>0</td>\n",
       "      <td>114</td>\n",
       "      <td>0</td>\n",
       "      <td>111111.107200</td>\n",
       "      <td>...</td>\n",
       "      <td>15</td>\n",
       "      <td>15</td>\n",
       "      <td>21</td>\n",
       "      <td>0</td>\n",
       "      <td>0</td>\n",
       "      <td>0</td>\n",
       "      <td>15</td>\n",
       "      <td>21</td>\n",
       "      <td>0</td>\n",
       "      <td>1</td>\n",
       "    </tr>\n",
       "    <tr>\n",
       "      <th>84077</th>\n",
       "      <td>84078</td>\n",
       "      <td>0.000011</td>\n",
       "      <td>1150</td>\n",
       "      <td>0</td>\n",
       "      <td>3</td>\n",
       "      <td>2</td>\n",
       "      <td>0</td>\n",
       "      <td>1336</td>\n",
       "      <td>0</td>\n",
       "      <td>90909.090200</td>\n",
       "      <td>...</td>\n",
       "      <td>1</td>\n",
       "      <td>1</td>\n",
       "      <td>1</td>\n",
       "      <td>0</td>\n",
       "      <td>0</td>\n",
       "      <td>0</td>\n",
       "      <td>1</td>\n",
       "      <td>1</td>\n",
       "      <td>0</td>\n",
       "      <td>1</td>\n",
       "    </tr>\n",
       "    <tr>\n",
       "      <th>187</th>\n",
       "      <td>188</td>\n",
       "      <td>0.000011</td>\n",
       "      <td>63283</td>\n",
       "      <td>0</td>\n",
       "      <td>3</td>\n",
       "      <td>2</td>\n",
       "      <td>0</td>\n",
       "      <td>1154</td>\n",
       "      <td>0</td>\n",
       "      <td>90909.090200</td>\n",
       "      <td>...</td>\n",
       "      <td>5</td>\n",
       "      <td>1</td>\n",
       "      <td>63</td>\n",
       "      <td>0</td>\n",
       "      <td>0</td>\n",
       "      <td>0</td>\n",
       "      <td>5</td>\n",
       "      <td>62</td>\n",
       "      <td>0</td>\n",
       "      <td>0</td>\n",
       "    </tr>\n",
       "    <tr>\n",
       "      <th>38070</th>\n",
       "      <td>38071</td>\n",
       "      <td>0.001055</td>\n",
       "      <td>63283</td>\n",
       "      <td>2</td>\n",
       "      <td>0</td>\n",
       "      <td>2</td>\n",
       "      <td>2</td>\n",
       "      <td>146</td>\n",
       "      <td>178</td>\n",
       "      <td>2843.601894</td>\n",
       "      <td>...</td>\n",
       "      <td>2</td>\n",
       "      <td>1</td>\n",
       "      <td>2</td>\n",
       "      <td>0</td>\n",
       "      <td>0</td>\n",
       "      <td>0</td>\n",
       "      <td>6</td>\n",
       "      <td>2</td>\n",
       "      <td>0</td>\n",
       "      <td>0</td>\n",
       "    </tr>\n",
       "  </tbody>\n",
       "</table>\n",
       "<p>5 rows × 44 columns</p>\n",
       "</div>"
      ],
      "text/plain": [
       "            id       dur  proto  service  state  spkts  dpkts  sbytes  dbytes  \\\n",
       "84472    84473  1.209230  79946        0      2     10      8    2676     354   \n",
       "148889  148890  0.000009  63283        2      3      2      0     114       0   \n",
       "84077    84078  0.000011   1150        0      3      2      0    1336       0   \n",
       "187        188  0.000011  63283        0      3      2      0    1154       0   \n",
       "38070    38071  0.001055  63283        2      0      2      2     146     178   \n",
       "\n",
       "                 rate  ...  ct_src_dport_ltm  ct_dst_sport_ltm  \\\n",
       "84472       14.058534  ...                 1                 1   \n",
       "148889  111111.107200  ...                15                15   \n",
       "84077    90909.090200  ...                 1                 1   \n",
       "187      90909.090200  ...                 5                 1   \n",
       "38070     2843.601894  ...                 2                 1   \n",
       "\n",
       "        ct_dst_src_ltm  is_ftp_login  ct_ftp_cmd  ct_flw_http_mthd  \\\n",
       "84472                1             0           0                 0   \n",
       "148889              21             0           0                 0   \n",
       "84077                1             0           0                 0   \n",
       "187                 63             0           0                 0   \n",
       "38070                2             0           0                 0   \n",
       "\n",
       "        ct_src_ltm  ct_srv_dst  is_sm_ips_ports  label  \n",
       "84472            1           2                0      0  \n",
       "148889          15          21                0      1  \n",
       "84077            1           1                0      1  \n",
       "187              5          62                0      0  \n",
       "38070            6           2                0      0  \n",
       "\n",
       "[5 rows x 44 columns]"
      ]
     },
     "execution_count": 10,
     "metadata": {},
     "output_type": "execute_result"
    }
   ],
   "source": [
    "trainData.head()"
   ]
  },
  {
   "cell_type": "markdown",
   "metadata": {},
   "source": [
    "## AutoMl Configuration and Experiment Run"
   ]
  },
  {
   "cell_type": "code",
   "execution_count": 11,
   "metadata": {},
   "outputs": [],
   "source": [
    "from azureml.train.automl import AutoMLConfig\n",
    "\n",
    "# Set parameters for AutoMLConfig\n",
    "# NOTE: DO NOT CHANGE THE experiment_timeout_minutes PARAMETER OR YOUR INSTANCE WILL TIME OUT.\n",
    "# If you wish to run the experiment longer, you will need to run this notebook in your own\n",
    "# Azure tenant, which will incur personal costs.\n",
    "automl_config = AutoMLConfig(\n",
    "    experiment_timeout_minutes=15,\n",
    "    task= 'classification',\n",
    "    primary_metric= \"AUC_weighted\",\n",
    "    \n",
    "    training_data= trainData,\n",
    "    label_column_name= 'label',\n",
    "    n_cross_validations= 2)"
   ]
  },
  {
   "cell_type": "code",
   "execution_count": 12,
   "metadata": {},
   "outputs": [
    {
     "name": "stdout",
     "output_type": "stream",
     "text": [
      "Running on local machine\n",
      "Parent Run ID: AutoML_194469e3-2784-43c4-b372-fa01c9b00088\n",
      "\n",
      "Current status: DatasetEvaluation. Gathering dataset statistics.\n",
      "Current status: FeaturesGeneration. Generating features for the dataset.\n",
      "Current status: DatasetFeaturization. Beginning to fit featurizers and featurize the dataset.\n",
      "Current status: DatasetFeaturizationCompleted. Completed fit featurizers and featurizing the dataset.\n",
      "Current status: DatasetCrossValidationSplit. Generating individually featurized CV splits.\n",
      "\n",
      "****************************************************************************************************\n",
      "DATA GUARDRAILS: \n",
      "\n",
      "TYPE:         Class balancing detection\n",
      "STATUS:       PASSED\n",
      "DESCRIPTION:  Your inputs were analyzed, and all classes are balanced in your training data.\n",
      "              Learn more about imbalanced data: https://aka.ms/AutomatedMLImbalancedData\n",
      "\n",
      "****************************************************************************************************\n",
      "\n",
      "TYPE:         Missing feature values imputation\n",
      "STATUS:       PASSED\n",
      "DESCRIPTION:  No feature missing values were detected in the training data.\n",
      "              Learn more about missing value imputation: https://aka.ms/AutomatedMLFeaturization\n",
      "\n",
      "****************************************************************************************************\n",
      "\n",
      "TYPE:         High cardinality feature detection\n",
      "STATUS:       PASSED\n",
      "DESCRIPTION:  Your inputs were analyzed, and no high cardinality features were detected.\n",
      "              Learn more about high cardinality feature handling: https://aka.ms/AutomatedMLFeaturization\n",
      "\n",
      "****************************************************************************************************\n",
      "Current status: ModelSelection. Beginning model selection.\n",
      "\n",
      "****************************************************************************************************\n",
      "ITERATION: The iteration being evaluated.\n",
      "PIPELINE: A summary description of the pipeline being evaluated.\n",
      "DURATION: Time taken for the current iteration.\n",
      "METRIC: The result of computing score on the fitted pipeline.\n",
      "BEST: The best observed score thus far.\n",
      "****************************************************************************************************\n",
      "\n",
      " ITERATION   PIPELINE                                       DURATION      METRIC      BEST\n",
      "         0   MaxAbsScaler LightGBM                          0:00:39       0.9997    0.9997\n",
      "         1   MaxAbsScaler XGBoostClassifier                 0:01:07       0.9983    0.9997\n",
      "         2   MaxAbsScaler RandomForest                      0:00:30       0.9900    0.9997\n",
      "         3   MaxAbsScaler SGD                               0:00:25       0.9895    0.9997\n",
      "         4   MaxAbsScaler SGD                               0:00:25       0.9882    0.9997\n",
      "         5   MaxAbsScaler ExtremeRandomTrees                0:00:30       0.9845    0.9997\n",
      "         6   MaxAbsScaler ExtremeRandomTrees                0:00:30       0.9823    0.9997\n",
      "         7   MaxAbsScaler SGD                               0:00:26       0.9899    0.9997\n",
      "         8   MaxAbsScaler RandomForest                      0:00:26       0.9750    0.9997\n",
      "         9   MaxAbsScaler SGD                               0:00:27       0.9891    0.9997\n",
      "        10   MaxAbsScaler RandomForest                      0:00:35       0.9626    0.9997\n",
      "        11   MaxAbsScaler SGD                               0:00:27       0.9894    0.9997\n",
      "        12   MaxAbsScaler SGD                               0:00:25       0.9883    0.9997\n",
      "        13   MaxAbsScaler RandomForest                      0:00:27       0.9403    0.9997\n",
      "        14   StandardScalerWrapper ExtremeRandomTrees       0:00:31       0.9739    0.9997\n",
      "        15   SparseNormalizer ExtremeRandomTrees            0:00:29       0.8644    0.9997\n",
      "        16   SparseNormalizer ExtremeRandomTrees            0:00:28       0.8422    0.9997\n",
      "        17   MaxAbsScaler SGD                               0:00:27       0.9876    0.9997\n",
      "        18   MaxAbsScaler SGD                               0:00:27       0.9885    0.9997\n",
      "        19   MaxAbsScaler RandomForest                      0:00:25       0.9686    0.9997\n",
      "        20   MaxAbsScaler ExtremeRandomTrees                0:00:35       0.9663    0.9997\n",
      "        21   MaxAbsScaler ExtremeRandomTrees                0:00:30       0.9693    0.9997\n",
      "        22                                                  0:03:01          nan    0.9997\n",
      "ERROR:                                                 \n",
      "        23   VotingEnsemble                                 0:01:40       0.9995    0.9997\n",
      "        24   StackEnsemble                                  0:01:56       0.9996    0.9997\n",
      "Stopping criteria reached at iteration 25. Ending experiment.\n",
      "****************************************************************************************************\n",
      "Current status: BestRunExplainModel. Best run model explanations started\n",
      "Current status: ModelExplanationDataSetSetup. Model explanations data setup completed\n",
      "Current status: PickSurrogateModel. Choosing LightGBM as the surrogate model for explanations\n",
      "Current status: EngineeredFeatureExplanations. Computation of engineered features started\n",
      "Current status: EngineeredFeatureExplanations. Computation of engineered features completed\n",
      "Current status: BestRunExplainModel. Best run model explanations completed\n",
      "****************************************************************************************************\n"
     ]
    }
   ],
   "source": [
    "remote_run = exp.submit(automl_config, show_output = True)"
   ]
  },
  {
   "cell_type": "code",
   "execution_count": 13,
   "metadata": {},
   "outputs": [
    {
     "data": {
      "application/vnd.jupyter.widget-view+json": {
       "model_id": "e6697d4ce5b740e8bbfe292513ad15cb",
       "version_major": 2,
       "version_minor": 0
      },
      "text/plain": [
       "_AutoMLWidget(widget_settings={'childWidgetDisplay': 'popup', 'send_telemetry': False, 'log_level': 'INFO', 's…"
      ]
     },
     "metadata": {},
     "output_type": "display_data"
    },
    {
     "data": {
      "application/aml.mini.widget.v1": "{\"status\": \"Completed\", \"workbench_run_details_uri\": \"https://ml.azure.com/experiments/udacity-project/runs/AutoML_194469e3-2784-43c4-b372-fa01c9b00088?wsid=/subscriptions/a7e82b92-bbed-4497-a8df-009b71b94f9c/resourcegroups/aml-quickstarts-121947/workspaces/quick-starts-ws-121947\", \"run_id\": \"AutoML_194469e3-2784-43c4-b372-fa01c9b00088\", \"run_properties\": {\"run_id\": \"AutoML_194469e3-2784-43c4-b372-fa01c9b00088\", \"created_utc\": \"2020-10-21T09:34:00.323469Z\", \"properties\": {\"num_iterations\": \"1000\", \"training_type\": \"TrainFull\", \"acquisition_function\": \"EI\", \"primary_metric\": \"AUC_weighted\", \"train_split\": \"0\", \"acquisition_parameter\": \"0\", \"num_cross_validation\": \"2\", \"target\": \"local\", \"AMLSettingsJsonString\": \"{\\\"path\\\":null,\\\"name\\\":\\\"udacity-project\\\",\\\"subscription_id\\\":\\\"a7e82b92-bbed-4497-a8df-009b71b94f9c\\\",\\\"resource_group\\\":\\\"aml-quickstarts-121947\\\",\\\"workspace_name\\\":\\\"quick-starts-ws-121947\\\",\\\"region\\\":\\\"southcentralus\\\",\\\"compute_target\\\":\\\"local\\\",\\\"spark_service\\\":null,\\\"azure_service\\\":\\\"Microsoft.AzureNotebookVM\\\",\\\"_local_managed_run_id\\\":null,\\\"many_models\\\":false,\\\"pipeline_fetch_max_batch_size\\\":1,\\\"iterations\\\":1000,\\\"primary_metric\\\":\\\"AUC_weighted\\\",\\\"task_type\\\":\\\"classification\\\",\\\"data_script\\\":null,\\\"validation_size\\\":0.0,\\\"n_cross_validations\\\":2,\\\"y_min\\\":null,\\\"y_max\\\":null,\\\"num_classes\\\":2,\\\"featurization\\\":\\\"auto\\\",\\\"_ignore_package_version_incompatibilities\\\":false,\\\"is_timeseries\\\":false,\\\"max_cores_per_iteration\\\":1,\\\"max_concurrent_iterations\\\":1,\\\"iteration_timeout_minutes\\\":null,\\\"mem_in_mb\\\":null,\\\"enforce_time_on_windows\\\":false,\\\"experiment_timeout_minutes\\\":15,\\\"experiment_exit_score\\\":null,\\\"whitelist_models\\\":null,\\\"blacklist_algos\\\":[\\\"TensorFlowLinearClassifier\\\",\\\"TensorFlowDNN\\\"],\\\"supported_models\\\":[\\\"MultinomialNaiveBayes\\\",\\\"RandomForest\\\",\\\"LightGBM\\\",\\\"TensorFlowDNN\\\",\\\"DecisionTree\\\",\\\"LogisticRegression\\\",\\\"SVM\\\",\\\"ExtremeRandomTrees\\\",\\\"TensorFlowLinearClassifier\\\",\\\"LinearSVM\\\",\\\"KNN\\\",\\\"BernoulliNaiveBayes\\\",\\\"SGD\\\",\\\"GradientBoosting\\\",\\\"AveragedPerceptronClassifier\\\",\\\"XGBoostClassifier\\\"],\\\"auto_blacklist\\\":true,\\\"blacklist_samples_reached\\\":false,\\\"exclude_nan_labels\\\":true,\\\"verbosity\\\":20,\\\"_debug_log\\\":\\\"automl.log\\\",\\\"show_warnings\\\":false,\\\"model_explainability\\\":true,\\\"service_url\\\":null,\\\"sdk_url\\\":null,\\\"sdk_packages\\\":null,\\\"enable_onnx_compatible_models\\\":false,\\\"enable_split_onnx_featurizer_estimator_models\\\":false,\\\"vm_type\\\":null,\\\"telemetry_verbosity\\\":20,\\\"send_telemetry\\\":true,\\\"enable_dnn\\\":false,\\\"force_text_dnn\\\":false,\\\"enable_feature_sweeping\\\":true,\\\"enable_early_stopping\\\":false,\\\"early_stopping_n_iters\\\":10,\\\"metrics\\\":null,\\\"enable_ensembling\\\":true,\\\"enable_stack_ensembling\\\":true,\\\"ensemble_iterations\\\":15,\\\"enable_tf\\\":false,\\\"enable_subsampling\\\":null,\\\"subsample_seed\\\":null,\\\"enable_nimbusml\\\":false,\\\"enable_streaming\\\":false,\\\"force_streaming\\\":false,\\\"track_child_runs\\\":true,\\\"label_column_name\\\":\\\"label\\\",\\\"weight_column_name\\\":null,\\\"cv_split_column_names\\\":null,\\\"enable_local_managed\\\":false,\\\"cost_mode\\\":1,\\\"lag_length\\\":0,\\\"metric_operation\\\":\\\"maximize\\\",\\\"preprocess\\\":true,\\\"scenario\\\":\\\"SDK-1.13.0\\\"}\", \"DataPrepJsonString\": null, \"EnableSubsampling\": null, \"runTemplate\": \"AutoML\", \"azureml.runsource\": \"automl\", \"display_task_type\": \"classification\", \"dependencies_versions\": \"{\\\"azureml-widgets\\\": \\\"1.16.0\\\", \\\"azureml-train\\\": \\\"1.16.0\\\", \\\"azureml-train-restclients-hyperdrive\\\": \\\"1.16.0\\\", \\\"azureml-train-core\\\": \\\"1.16.0\\\", \\\"azureml-train-automl\\\": \\\"1.16.0\\\", \\\"azureml-train-automl-runtime\\\": \\\"1.16.0\\\", \\\"azureml-train-automl-client\\\": \\\"1.16.0\\\", \\\"azureml-tensorboard\\\": \\\"1.16.0\\\", \\\"azureml-telemetry\\\": \\\"1.16.0\\\", \\\"azureml-sdk\\\": \\\"1.16.0\\\", \\\"azureml-samples\\\": \\\"0+unknown\\\", \\\"azureml-pipeline\\\": \\\"1.16.0\\\", \\\"azureml-pipeline-steps\\\": \\\"1.16.0\\\", \\\"azureml-pipeline-core\\\": \\\"1.16.0\\\", \\\"azureml-opendatasets\\\": \\\"1.16.0\\\", \\\"azureml-model-management-sdk\\\": \\\"1.0.1b6.post1\\\", \\\"azureml-mlflow\\\": \\\"1.16.0\\\", \\\"azureml-interpret\\\": \\\"1.16.0\\\", \\\"azureml-explain-model\\\": \\\"1.16.0\\\", \\\"azureml-defaults\\\": \\\"1.16.0\\\", \\\"azureml-dataset-runtime\\\": \\\"1.16.0\\\", \\\"azureml-dataprep\\\": \\\"2.3.2\\\", \\\"azureml-dataprep-rslex\\\": \\\"1.1.1\\\", \\\"azureml-dataprep-native\\\": \\\"23.0.0\\\", \\\"azureml-datadrift\\\": \\\"1.16.0\\\", \\\"azureml-core\\\": \\\"1.16.0\\\", \\\"azureml-contrib-services\\\": \\\"1.16.0\\\", \\\"azureml-contrib-server\\\": \\\"1.16.0\\\", \\\"azureml-contrib-reinforcementlearning\\\": \\\"1.16.0\\\", \\\"azureml-contrib-pipeline-steps\\\": \\\"1.16.0\\\", \\\"azureml-contrib-notebook\\\": \\\"1.16.0\\\", \\\"azureml-contrib-interpret\\\": \\\"1.16.0\\\", \\\"azureml-contrib-gbdt\\\": \\\"1.16.0\\\", \\\"azureml-contrib-fairness\\\": \\\"1.16.0\\\", \\\"azureml-contrib-dataset\\\": \\\"1.16.0\\\", \\\"azureml-cli-common\\\": \\\"1.16.0\\\", \\\"azureml-automl-runtime\\\": \\\"1.16.0\\\", \\\"azureml-automl-core\\\": \\\"1.16.0\\\", \\\"azureml-accel-models\\\": \\\"1.16.0\\\"}\", \"_aml_system_scenario_identification\": \"Local.Parent\", \"ClientSdkVersion\": \"1.16.0\", \"ClientType\": \"SDK\", \"environment_cpu_name\": \"AzureML-AutoML\", \"environment_cpu_version\": \"43\", \"environment_gpu_name\": \"AzureML-AutoML-GPU\", \"environment_gpu_version\": \"31\", \"root_attribution\": \"automl\", \"attribution\": \"AutoML\", \"Orchestrator\": \"AutoML\", \"_azureml.ComputeTargetType\": \"local\", \"ProblemInfoJsonString\": \"{\\\"dataset_num_categorical\\\": 0, \\\"is_sparse\\\": true, \\\"subsampling\\\": false, \\\"dataset_classes\\\": 2, \\\"dataset_features\\\": 307, \\\"dataset_samples\\\": 122738, \\\"single_frequency_class_detected\\\": false}\", \"feature_skus\": \"automatedml_sdk_guardrails\"}, \"tags\": {\"model_explain_run\": \"best_run\", \"best_score\": \"0.9996682546570062\", \"best_pipeline\": \"LightGBM\", \"automl_best_child_run_id\": \"AutoML_194469e3-2784-43c4-b372-fa01c9b00088_0\", \"model_explain_best_run_child_id\": \"AutoML_194469e3-2784-43c4-b372-fa01c9b00088_0\"}, \"end_time_utc\": \"2020-10-21T09:53:47.86975Z\", \"status\": \"Completed\", \"log_files\": {}, \"log_groups\": [], \"run_duration\": \"0:19:47\"}, \"child_runs\": [{\"run_id\": \"AutoML_194469e3-2784-43c4-b372-fa01c9b00088_0\", \"run_number\": 3, \"metric\": null, \"status\": \"Completed\", \"run_type\": null, \"training_percent\": \"100\", \"start_time\": \"2020-10-21T09:35:01.679273Z\", \"end_time\": \"2020-10-21T09:35:41.532638Z\", \"created_time\": \"2020-10-21T09:35:01.536334Z\", \"created_time_dt\": \"2020-10-21T09:35:01.536334Z\", \"duration\": \"0:00:39\", \"iteration\": \"0\", \"goal\": \"AUC_weighted_max\", \"run_name\": \"MaxAbsScaler, LightGBM\", \"run_properties\": \"copy=True\", \"primary_metric\": 0.99966825, \"best_metric\": 0.99966825}, {\"run_id\": \"AutoML_194469e3-2784-43c4-b372-fa01c9b00088_1\", \"run_number\": 4, \"metric\": null, \"status\": \"Completed\", \"run_type\": null, \"training_percent\": \"100\", \"start_time\": \"2020-10-21T09:35:42.138682Z\", \"end_time\": \"2020-10-21T09:36:49.471835Z\", \"created_time\": \"2020-10-21T09:35:41.988422Z\", \"created_time_dt\": \"2020-10-21T09:35:41.988422Z\", \"duration\": \"0:01:07\", \"iteration\": \"1\", \"goal\": \"AUC_weighted_max\", \"run_name\": \"MaxAbsScaler, XGBoostClassifier\", \"run_properties\": \"copy=True\", \"primary_metric\": 0.99829916, \"best_metric\": 0.99966825}, {\"run_id\": \"AutoML_194469e3-2784-43c4-b372-fa01c9b00088_2\", \"run_number\": 5, \"metric\": null, \"status\": \"Completed\", \"run_type\": null, \"training_percent\": \"100\", \"start_time\": \"2020-10-21T09:36:50.790717Z\", \"end_time\": \"2020-10-21T09:37:20.927356Z\", \"created_time\": \"2020-10-21T09:36:50.655033Z\", \"created_time_dt\": \"2020-10-21T09:36:50.655033Z\", \"duration\": \"0:00:30\", \"iteration\": \"2\", \"goal\": \"AUC_weighted_max\", \"run_name\": \"MaxAbsScaler, RandomForest\", \"run_properties\": \"copy=True\", \"primary_metric\": 0.99003066, \"best_metric\": 0.99966825}, {\"run_id\": \"AutoML_194469e3-2784-43c4-b372-fa01c9b00088_3\", \"run_number\": 6, \"metric\": null, \"status\": \"Completed\", \"run_type\": null, \"training_percent\": \"100\", \"start_time\": \"2020-10-21T09:37:22.538221Z\", \"end_time\": \"2020-10-21T09:37:48.48959Z\", \"created_time\": \"2020-10-21T09:37:22.345003Z\", \"created_time_dt\": \"2020-10-21T09:37:22.345003Z\", \"duration\": \"0:00:26\", \"iteration\": \"3\", \"goal\": \"AUC_weighted_max\", \"run_name\": \"MaxAbsScaler, SGD\", \"run_properties\": \"copy=True\", \"primary_metric\": 0.98953595, \"best_metric\": 0.99966825}, {\"run_id\": \"AutoML_194469e3-2784-43c4-b372-fa01c9b00088_4\", \"run_number\": 7, \"metric\": null, \"status\": \"Completed\", \"run_type\": null, \"training_percent\": \"100\", \"start_time\": \"2020-10-21T09:37:50.111408Z\", \"end_time\": \"2020-10-21T09:38:15.837196Z\", \"created_time\": \"2020-10-21T09:37:49.965046Z\", \"created_time_dt\": \"2020-10-21T09:37:49.965046Z\", \"duration\": \"0:00:25\", \"iteration\": \"4\", \"goal\": \"AUC_weighted_max\", \"run_name\": \"MaxAbsScaler, SGD\", \"run_properties\": \"copy=True\", \"primary_metric\": 0.98816903, \"best_metric\": 0.99966825}, {\"run_id\": \"AutoML_194469e3-2784-43c4-b372-fa01c9b00088_5\", \"run_number\": 8, \"metric\": null, \"status\": \"Completed\", \"run_type\": null, \"training_percent\": \"100\", \"start_time\": \"2020-10-21T09:38:18.038908Z\", \"end_time\": \"2020-10-21T09:38:49.035162Z\", \"created_time\": \"2020-10-21T09:38:17.664175Z\", \"created_time_dt\": \"2020-10-21T09:38:17.664175Z\", \"duration\": \"0:00:31\", \"iteration\": \"5\", \"goal\": \"AUC_weighted_max\", \"run_name\": \"MaxAbsScaler, ExtremeRandomTrees\", \"run_properties\": \"copy=True\", \"primary_metric\": 0.98450211, \"best_metric\": 0.99966825}, {\"run_id\": \"AutoML_194469e3-2784-43c4-b372-fa01c9b00088_6\", \"run_number\": 9, \"metric\": null, \"status\": \"Completed\", \"run_type\": null, \"training_percent\": \"100\", \"start_time\": \"2020-10-21T09:38:50.537103Z\", \"end_time\": \"2020-10-21T09:39:21.501938Z\", \"created_time\": \"2020-10-21T09:38:50.346312Z\", \"created_time_dt\": \"2020-10-21T09:38:50.346312Z\", \"duration\": \"0:00:31\", \"iteration\": \"6\", \"goal\": \"AUC_weighted_max\", \"run_name\": \"MaxAbsScaler, ExtremeRandomTrees\", \"run_properties\": \"copy=True\", \"primary_metric\": 0.98234603, \"best_metric\": 0.99966825}, {\"run_id\": \"AutoML_194469e3-2784-43c4-b372-fa01c9b00088_7\", \"run_number\": 10, \"metric\": null, \"status\": \"Completed\", \"run_type\": null, \"training_percent\": \"100\", \"start_time\": \"2020-10-21T09:39:23.757894Z\", \"end_time\": \"2020-10-21T09:39:50.476276Z\", \"created_time\": \"2020-10-21T09:39:23.265557Z\", \"created_time_dt\": \"2020-10-21T09:39:23.265557Z\", \"duration\": \"0:00:27\", \"iteration\": \"7\", \"goal\": \"AUC_weighted_max\", \"run_name\": \"MaxAbsScaler, SGD\", \"run_properties\": \"copy=True\", \"primary_metric\": 0.98991862, \"best_metric\": 0.99966825}, {\"run_id\": \"AutoML_194469e3-2784-43c4-b372-fa01c9b00088_8\", \"run_number\": 11, \"metric\": null, \"status\": \"Completed\", \"run_type\": null, \"training_percent\": \"100\", \"start_time\": \"2020-10-21T09:39:52.084355Z\", \"end_time\": \"2020-10-21T09:40:18.47033Z\", \"created_time\": \"2020-10-21T09:39:51.899372Z\", \"created_time_dt\": \"2020-10-21T09:39:51.899372Z\", \"duration\": \"0:00:26\", \"iteration\": \"8\", \"goal\": \"AUC_weighted_max\", \"run_name\": \"MaxAbsScaler, RandomForest\", \"run_properties\": \"copy=True\", \"primary_metric\": 0.97496306, \"best_metric\": 0.99966825}, {\"run_id\": \"AutoML_194469e3-2784-43c4-b372-fa01c9b00088_9\", \"run_number\": 12, \"metric\": null, \"status\": \"Completed\", \"run_type\": null, \"training_percent\": \"100\", \"start_time\": \"2020-10-21T09:40:19.828179Z\", \"end_time\": \"2020-10-21T09:40:47.583135Z\", \"created_time\": \"2020-10-21T09:40:19.704942Z\", \"created_time_dt\": \"2020-10-21T09:40:19.704942Z\", \"duration\": \"0:00:27\", \"iteration\": \"9\", \"goal\": \"AUC_weighted_max\", \"run_name\": \"MaxAbsScaler, SGD\", \"run_properties\": \"copy=True\", \"primary_metric\": 0.98912166, \"best_metric\": 0.99966825}, {\"run_id\": \"AutoML_194469e3-2784-43c4-b372-fa01c9b00088_10\", \"run_number\": 13, \"metric\": null, \"status\": \"Completed\", \"run_type\": null, \"training_percent\": \"100\", \"start_time\": \"2020-10-21T09:40:51.718598Z\", \"end_time\": \"2020-10-21T09:41:26.940053Z\", \"created_time\": \"2020-10-21T09:40:50.848395Z\", \"created_time_dt\": \"2020-10-21T09:40:50.848395Z\", \"duration\": \"0:00:36\", \"iteration\": \"10\", \"goal\": \"AUC_weighted_max\", \"run_name\": \"MaxAbsScaler, RandomForest\", \"run_properties\": \"copy=True\", \"primary_metric\": 0.96262572, \"best_metric\": 0.99966825}, {\"run_id\": \"AutoML_194469e3-2784-43c4-b372-fa01c9b00088_11\", \"run_number\": 14, \"metric\": null, \"status\": \"Completed\", \"run_type\": null, \"training_percent\": \"100\", \"start_time\": \"2020-10-21T09:41:30.323241Z\", \"end_time\": \"2020-10-21T09:41:58.169497Z\", \"created_time\": \"2020-10-21T09:41:29.419074Z\", \"created_time_dt\": \"2020-10-21T09:41:29.419074Z\", \"duration\": \"0:00:28\", \"iteration\": \"11\", \"goal\": \"AUC_weighted_max\", \"run_name\": \"MaxAbsScaler, SGD\", \"run_properties\": \"copy=True\", \"primary_metric\": 0.98942673, \"best_metric\": 0.99966825}, {\"run_id\": \"AutoML_194469e3-2784-43c4-b372-fa01c9b00088_12\", \"run_number\": 15, \"metric\": null, \"status\": \"Completed\", \"run_type\": null, \"training_percent\": \"100\", \"start_time\": \"2020-10-21T09:41:59.894969Z\", \"end_time\": \"2020-10-21T09:42:24.967Z\", \"created_time\": \"2020-10-21T09:41:59.737942Z\", \"created_time_dt\": \"2020-10-21T09:41:59.737942Z\", \"duration\": \"0:00:25\", \"iteration\": \"12\", \"goal\": \"AUC_weighted_max\", \"run_name\": \"MaxAbsScaler, SGD\", \"run_properties\": \"copy=True\", \"primary_metric\": 0.98829133, \"best_metric\": 0.99966825}, {\"run_id\": \"AutoML_194469e3-2784-43c4-b372-fa01c9b00088_13\", \"run_number\": 16, \"metric\": null, \"status\": \"Completed\", \"run_type\": null, \"training_percent\": \"100\", \"start_time\": \"2020-10-21T09:42:26.572571Z\", \"end_time\": \"2020-10-21T09:42:54.486735Z\", \"created_time\": \"2020-10-21T09:42:26.443692Z\", \"created_time_dt\": \"2020-10-21T09:42:26.443692Z\", \"duration\": \"0:00:28\", \"iteration\": \"13\", \"goal\": \"AUC_weighted_max\", \"run_name\": \"MaxAbsScaler, RandomForest\", \"run_properties\": \"copy=True\", \"primary_metric\": 0.94030173, \"best_metric\": 0.99966825}, {\"run_id\": \"AutoML_194469e3-2784-43c4-b372-fa01c9b00088_14\", \"run_number\": 17, \"metric\": null, \"status\": \"Completed\", \"run_type\": null, \"training_percent\": \"100\", \"start_time\": \"2020-10-21T09:42:55.98614Z\", \"end_time\": \"2020-10-21T09:43:27.456642Z\", \"created_time\": \"2020-10-21T09:42:55.844566Z\", \"created_time_dt\": \"2020-10-21T09:42:55.844566Z\", \"duration\": \"0:00:31\", \"iteration\": \"14\", \"goal\": \"AUC_weighted_max\", \"run_name\": \"StandardScalerWrapper, ExtremeRandomTrees\", \"run_properties\": \"<azureml.automl.runtime.shared.model_wrappers.StandardScalerWrapper object at 0x7f2affbc6d30\", \"primary_metric\": 0.97392425, \"best_metric\": 0.99966825}, {\"run_id\": \"AutoML_194469e3-2784-43c4-b372-fa01c9b00088_15\", \"run_number\": 18, \"metric\": null, \"status\": \"Completed\", \"run_type\": null, \"training_percent\": \"100\", \"start_time\": \"2020-10-21T09:43:29.018814Z\", \"end_time\": \"2020-10-21T09:43:58.390971Z\", \"created_time\": \"2020-10-21T09:43:28.871204Z\", \"created_time_dt\": \"2020-10-21T09:43:28.871204Z\", \"duration\": \"0:00:29\", \"iteration\": \"15\", \"goal\": \"AUC_weighted_max\", \"run_name\": \"SparseNormalizer, ExtremeRandomTrees\", \"run_properties\": \"<azureml.automl.runtime.shared.model_wrappers.SparseNormalizer object at 0x7f2affef67b8\", \"primary_metric\": 0.86441113, \"best_metric\": 0.99966825}, {\"run_id\": \"AutoML_194469e3-2784-43c4-b372-fa01c9b00088_16\", \"run_number\": 19, \"metric\": null, \"status\": \"Completed\", \"run_type\": null, \"training_percent\": \"100\", \"start_time\": \"2020-10-21T09:43:59.909997Z\", \"end_time\": \"2020-10-21T09:44:28.625618Z\", \"created_time\": \"2020-10-21T09:43:59.763717Z\", \"created_time_dt\": \"2020-10-21T09:43:59.763717Z\", \"duration\": \"0:00:28\", \"iteration\": \"16\", \"goal\": \"AUC_weighted_max\", \"run_name\": \"SparseNormalizer, ExtremeRandomTrees\", \"run_properties\": \"<azureml.automl.runtime.shared.model_wrappers.SparseNormalizer object at 0x7f2b00426cf8\", \"primary_metric\": 0.84215733, \"best_metric\": 0.99966825}, {\"run_id\": \"AutoML_194469e3-2784-43c4-b372-fa01c9b00088_17\", \"run_number\": 20, \"metric\": null, \"status\": \"Completed\", \"run_type\": null, \"training_percent\": \"100\", \"start_time\": \"2020-10-21T09:44:30.082367Z\", \"end_time\": \"2020-10-21T09:44:57.236064Z\", \"created_time\": \"2020-10-21T09:44:29.863684Z\", \"created_time_dt\": \"2020-10-21T09:44:29.863684Z\", \"duration\": \"0:00:27\", \"iteration\": \"17\", \"goal\": \"AUC_weighted_max\", \"run_name\": \"MaxAbsScaler, SGD\", \"run_properties\": \"copy=True\", \"primary_metric\": 0.98761513, \"best_metric\": 0.99966825}, {\"run_id\": \"AutoML_194469e3-2784-43c4-b372-fa01c9b00088_18\", \"run_number\": 21, \"metric\": null, \"status\": \"Completed\", \"run_type\": null, \"training_percent\": \"100\", \"start_time\": \"2020-10-21T09:44:58.767155Z\", \"end_time\": \"2020-10-21T09:45:26.224669Z\", \"created_time\": \"2020-10-21T09:44:58.635641Z\", \"created_time_dt\": \"2020-10-21T09:44:58.635641Z\", \"duration\": \"0:00:27\", \"iteration\": \"18\", \"goal\": \"AUC_weighted_max\", \"run_name\": \"MaxAbsScaler, SGD\", \"run_properties\": \"copy=True\", \"primary_metric\": 0.98850437, \"best_metric\": 0.99966825}, {\"run_id\": \"AutoML_194469e3-2784-43c4-b372-fa01c9b00088_19\", \"run_number\": 22, \"metric\": null, \"status\": \"Completed\", \"run_type\": null, \"training_percent\": \"100\", \"start_time\": \"2020-10-21T09:45:27.834161Z\", \"end_time\": \"2020-10-21T09:45:53.738878Z\", \"created_time\": \"2020-10-21T09:45:27.689031Z\", \"created_time_dt\": \"2020-10-21T09:45:27.689031Z\", \"duration\": \"0:00:26\", \"iteration\": \"19\", \"goal\": \"AUC_weighted_max\", \"run_name\": \"MaxAbsScaler, RandomForest\", \"run_properties\": \"copy=True\", \"primary_metric\": 0.96860616, \"best_metric\": 0.99966825}, {\"run_id\": \"AutoML_194469e3-2784-43c4-b372-fa01c9b00088_20\", \"run_number\": 23, \"metric\": null, \"status\": \"Completed\", \"run_type\": null, \"training_percent\": \"100\", \"start_time\": \"2020-10-21T09:45:55.371674Z\", \"end_time\": \"2020-10-21T09:46:30.428949Z\", \"created_time\": \"2020-10-21T09:45:55.240123Z\", \"created_time_dt\": \"2020-10-21T09:45:55.240123Z\", \"duration\": \"0:00:35\", \"iteration\": \"20\", \"goal\": \"AUC_weighted_max\", \"run_name\": \"MaxAbsScaler, ExtremeRandomTrees\", \"run_properties\": \"copy=True\", \"primary_metric\": 0.96628066, \"best_metric\": 0.99966825}, {\"run_id\": \"AutoML_194469e3-2784-43c4-b372-fa01c9b00088_21\", \"run_number\": 24, \"metric\": null, \"status\": \"Completed\", \"run_type\": null, \"training_percent\": \"100\", \"start_time\": \"2020-10-21T09:46:32.771972Z\", \"end_time\": \"2020-10-21T09:47:03.74243Z\", \"created_time\": \"2020-10-21T09:46:32.269463Z\", \"created_time_dt\": \"2020-10-21T09:46:32.269463Z\", \"duration\": \"0:00:31\", \"iteration\": \"21\", \"goal\": \"AUC_weighted_max\", \"run_name\": \"MaxAbsScaler, ExtremeRandomTrees\", \"run_properties\": \"copy=True\", \"primary_metric\": 0.96929505, \"best_metric\": 0.99966825}, {\"run_id\": \"AutoML_194469e3-2784-43c4-b372-fa01c9b00088_22\", \"run_number\": 25, \"metric\": null, \"status\": \"Canceled\", \"run_type\": null, \"training_percent\": \"100\", \"start_time\": \"2020-10-21T09:47:05.157597Z\", \"end_time\": \"2020-10-21T09:53:50.474838Z\", \"created_time\": \"2020-10-21T09:47:05.027044Z\", \"created_time_dt\": \"2020-10-21T09:47:05.027044Z\", \"duration\": \"0:06:45\", \"iteration\": \"22\", \"goal\": \"AUC_weighted_max\", \"run_name\": \"SparseNormalizer, XGBoostClassifier\", \"run_properties\": \"\"}, {\"run_id\": \"AutoML_194469e3-2784-43c4-b372-fa01c9b00088_23\", \"run_number\": 26, \"metric\": null, \"status\": \"Completed\", \"run_type\": null, \"training_percent\": \"100\", \"start_time\": \"2020-10-21T09:50:07.765634Z\", \"end_time\": \"2020-10-21T09:51:48.526052Z\", \"created_time\": \"2020-10-21T09:50:07.272523Z\", \"created_time_dt\": \"2020-10-21T09:50:07.272523Z\", \"duration\": \"0:01:41\", \"iteration\": \"23\", \"goal\": \"AUC_weighted_max\", \"run_name\": \"VotingEnsemble\", \"run_properties\": \"classification_labels=None,\\n                              estimators=[('0',\\n                                           Pipeline(memory=None,\\n                                                    steps=[('maxabsscaler',\\n                                                            MaxAbsScaler(copy=True\", \"primary_metric\": 0.99954284, \"best_metric\": 0.99966825}, {\"run_id\": \"AutoML_194469e3-2784-43c4-b372-fa01c9b00088_24\", \"run_number\": 27, \"metric\": null, \"status\": \"Completed\", \"run_type\": null, \"training_percent\": \"100\", \"start_time\": \"2020-10-21T09:51:49.611135Z\", \"end_time\": \"2020-10-21T09:53:46.314181Z\", \"created_time\": \"2020-10-21T09:51:49.15477Z\", \"created_time_dt\": \"2020-10-21T09:51:49.15477Z\", \"duration\": \"0:01:57\", \"iteration\": \"24\", \"goal\": \"AUC_weighted_max\", \"run_name\": \"StackEnsemble\", \"run_properties\": \"base_learners=[('0',\\n                                        Pipeline(memory=None,\\n                                                 steps=[('maxabsscaler',\\n                                                         MaxAbsScaler(copy=True\", \"primary_metric\": 0.99956761, \"best_metric\": 0.99966825}], \"children_metrics\": {\"categories\": [0], \"series\": {\"balanced_accuracy\": [{\"categories\": [\"0\", \"1\", \"2\", \"3\", \"4\", \"5\", \"6\", \"7\", \"8\", \"9\", \"10\", \"11\", \"12\", \"13\", \"14\", \"15\", \"16\", \"17\", \"18\", \"19\", \"20\", \"21\", \"23\", \"24\"], \"mode\": \"markers\", \"name\": \"balanced_accuracy\", \"stepped\": false, \"type\": \"scatter\", \"data\": [0.990365123655668, 0.9669375623920096, 0.9222868021454125, 0.9431083410750323, 0.9351005951990408, 0.8693717112326622, 0.8922230167478887, 0.9396672502614947, 0.865446359505714, 0.941606636243709, 0.8564588772446127, 0.9411400506683831, 0.9378499430532942, 0.7908095622922799, 0.8510442540095899, 0.7005208117774203, 0.7804007158225478, 0.9359195433236855, 0.9363937637348144, 0.8604146883968629, 0.8778576755225839, 0.8940885183314288, 0.9881963477982159, 0.98974728284221]}, {\"categories\": [\"0\", \"1\", \"2\", \"3\", \"4\", \"5\", \"6\", \"7\", \"8\", \"9\", \"10\", \"11\", \"12\", \"13\", \"14\", \"15\", \"16\", \"17\", \"18\", \"19\", \"20\", \"21\", \"23\", \"24\"], \"mode\": \"lines\", \"name\": \"balanced_accuracy_max\", \"stepped\": true, \"type\": \"scatter\", \"data\": [0.990365123655668, 0.990365123655668, 0.990365123655668, 0.990365123655668, 0.990365123655668, 0.990365123655668, 0.990365123655668, 0.990365123655668, 0.990365123655668, 0.990365123655668, 0.990365123655668, 0.990365123655668, 0.990365123655668, 0.990365123655668, 0.990365123655668, 0.990365123655668, 0.990365123655668, 0.990365123655668, 0.990365123655668, 0.990365123655668, 0.990365123655668, 0.990365123655668, 0.990365123655668, 0.990365123655668]}], \"precision_score_macro\": [{\"categories\": [\"0\", \"1\", \"2\", \"3\", \"4\", \"5\", \"6\", \"7\", \"8\", \"9\", \"10\", \"11\", \"12\", \"13\", \"14\", \"15\", \"16\", \"17\", \"18\", \"19\", \"20\", \"21\", \"23\", \"24\"], \"mode\": \"markers\", \"name\": \"precision_score_macro\", \"stepped\": false, \"type\": \"scatter\", \"data\": [0.9909830766681618, 0.9815452748359552, 0.9639763123560351, 0.9470540247836495, 0.9493533806482269, 0.9432106323495018, 0.9538814128597655, 0.9298715511591944, 0.9424156489064358, 0.9344326625482163, 0.9405906122879901, 0.9299611605172581, 0.9558695011502762, 0.754228851055493, 0.9386428334655637, 0.8101685652632953, 0.747028462372527, 0.9475503082708439, 0.9269190524071174, 0.941837797089492, 0.9427317418468133, 0.9439763029702674, 0.9909637264695217, 0.9909935788619524]}, {\"categories\": [\"0\", \"1\", \"2\", \"3\", \"4\", \"5\", \"6\", \"7\", \"8\", \"9\", \"10\", \"11\", \"12\", \"13\", \"14\", \"15\", \"16\", \"17\", \"18\", \"19\", \"20\", \"21\", \"23\", \"24\"], \"mode\": \"lines\", \"name\": \"precision_score_macro_max\", \"stepped\": true, \"type\": \"scatter\", \"data\": [0.9909830766681618, 0.9909830766681618, 0.9909830766681618, 0.9909830766681618, 0.9909830766681618, 0.9909830766681618, 0.9909830766681618, 0.9909830766681618, 0.9909830766681618, 0.9909830766681618, 0.9909830766681618, 0.9909830766681618, 0.9909830766681618, 0.9909830766681618, 0.9909830766681618, 0.9909830766681618, 0.9909830766681618, 0.9909830766681618, 0.9909830766681618, 0.9909830766681618, 0.9909830766681618, 0.9909830766681618, 0.9909830766681618, 0.9909935788619524]}], \"recall_score_weighted\": [{\"categories\": [\"0\", \"1\", \"2\", \"3\", \"4\", \"5\", \"6\", \"7\", \"8\", \"9\", \"10\", \"11\", \"12\", \"13\", \"14\", \"15\", \"16\", \"17\", \"18\", \"19\", \"20\", \"21\", \"23\", \"24\"], \"mode\": \"markers\", \"name\": \"recall_score_weighted\", \"stepped\": false, \"type\": \"scatter\", \"data\": [0.9918933011781192, 0.9775375189427886, 0.9496732878163242, 0.9524108263129594, 0.9495266339682902, 0.9159184604604931, 0.9310401016800014, 0.94211246720657, 0.9135964411999544, 0.9452492300672978, 0.9082680180547182, 0.942853883882742, 0.9540321660773354, 0.7582574263879158, 0.9048135051899168, 0.7938046896641626, 0.7234678746598445, 0.9495673711482997, 0.9396600889700011, 0.9107448385992928, 0.9201306848734703, 0.9289299157555118, 0.9909481986019, 0.9916325832260589]}, {\"categories\": [\"0\", \"1\", \"2\", \"3\", \"4\", \"5\", \"6\", \"7\", \"8\", \"9\", \"10\", \"11\", \"12\", \"13\", \"14\", \"15\", \"16\", \"17\", \"18\", \"19\", \"20\", \"21\", \"23\", \"24\"], \"mode\": \"lines\", \"name\": \"recall_score_weighted_max\", \"stepped\": true, \"type\": \"scatter\", \"data\": [0.9918933011781192, 0.9918933011781192, 0.9918933011781192, 0.9918933011781192, 0.9918933011781192, 0.9918933011781192, 0.9918933011781192, 0.9918933011781192, 0.9918933011781192, 0.9918933011781192, 0.9918933011781192, 0.9918933011781192, 0.9918933011781192, 0.9918933011781192, 0.9918933011781192, 0.9918933011781192, 0.9918933011781192, 0.9918933011781192, 0.9918933011781192, 0.9918933011781192, 0.9918933011781192, 0.9918933011781192, 0.9918933011781192, 0.9918933011781192]}], \"log_loss\": [{\"categories\": [\"0\", \"1\", \"2\", \"3\", \"4\", \"5\", \"6\", \"7\", \"8\", \"9\", \"10\", \"11\", \"12\", \"13\", \"14\", \"15\", \"16\", \"17\", \"18\", \"19\", \"20\", \"21\", \"23\", \"24\"], \"mode\": \"markers\", \"name\": \"log_loss\", \"stepped\": false, \"type\": \"scatter\", \"data\": [0.02256009403768483, 0.052150996803872175, 0.15620322841886153, 0.11568621205535493, 0.17377282104942673, 0.17044121566991555, 0.16072413987041545, 0.12303797370955513, 0.2716164124504175, 0.12624727158467858, 0.2515019606632516, 0.14542067057536978, 0.14787253924236027, 0.4516043852678665, 0.1923107807089169, 0.424454879048856, 0.53852264365792, 0.12653879359527304, 0.1346773554109582, 0.2581202258943902, 0.23964992335934865, 0.23065856410938107, 0.03942295500565772, 0.02527152258346548]}, {\"categories\": [\"0\", \"1\", \"2\", \"3\", \"4\", \"5\", \"6\", \"7\", \"8\", \"9\", \"10\", \"11\", \"12\", \"13\", \"14\", \"15\", \"16\", \"17\", \"18\", \"19\", \"20\", \"21\", \"23\", \"24\"], \"mode\": \"lines\", \"name\": \"log_loss_min\", \"stepped\": true, \"type\": \"scatter\", \"data\": [0.02256009403768483, 0.02256009403768483, 0.02256009403768483, 0.02256009403768483, 0.02256009403768483, 0.02256009403768483, 0.02256009403768483, 0.02256009403768483, 0.02256009403768483, 0.02256009403768483, 0.02256009403768483, 0.02256009403768483, 0.02256009403768483, 0.02256009403768483, 0.02256009403768483, 0.02256009403768483, 0.02256009403768483, 0.02256009403768483, 0.02256009403768483, 0.02256009403768483, 0.02256009403768483, 0.02256009403768483, 0.02256009403768483, 0.02256009403768483]}], \"AUC_weighted\": [{\"categories\": [\"0\", \"1\", \"2\", \"3\", \"4\", \"5\", \"6\", \"7\", \"8\", \"9\", \"10\", \"11\", \"12\", \"13\", \"14\", \"15\", \"16\", \"17\", \"18\", \"19\", \"20\", \"21\", \"23\", \"24\"], \"mode\": \"markers\", \"name\": \"AUC_weighted\", \"stepped\": false, \"type\": \"scatter\", \"data\": [0.9996682546570062, 0.998299155400031, 0.9900306588872577, 0.9895359468986402, 0.9881690336746662, 0.9845021064351154, 0.982346029323378, 0.9899186170173139, 0.9749630610375863, 0.9891216606621764, 0.9626257193626664, 0.9894267262896304, 0.9882913300478812, 0.9403017305972957, 0.9739242477417787, 0.8644111284217542, 0.8421573272648666, 0.9876151322923127, 0.9885043703363448, 0.9686061575619324, 0.9662806573704364, 0.9692950509153344, 0.9995428394338951, 0.9995676073388046]}, {\"categories\": [\"0\", \"1\", \"2\", \"3\", \"4\", \"5\", \"6\", \"7\", \"8\", \"9\", \"10\", \"11\", \"12\", \"13\", \"14\", \"15\", \"16\", \"17\", \"18\", \"19\", \"20\", \"21\", \"23\", \"24\"], \"mode\": \"lines\", \"name\": \"AUC_weighted_max\", \"stepped\": true, \"type\": \"scatter\", \"data\": [0.9996682546570062, 0.9996682546570062, 0.9996682546570062, 0.9996682546570062, 0.9996682546570062, 0.9996682546570062, 0.9996682546570062, 0.9996682546570062, 0.9996682546570062, 0.9996682546570062, 0.9996682546570062, 0.9996682546570062, 0.9996682546570062, 0.9996682546570062, 0.9996682546570062, 0.9996682546570062, 0.9996682546570062, 0.9996682546570062, 0.9996682546570062, 0.9996682546570062, 0.9996682546570062, 0.9996682546570062, 0.9996682546570062, 0.9996682546570062]}], \"average_precision_score_micro\": [{\"categories\": [\"0\", \"1\", \"2\", \"3\", \"4\", \"5\", \"6\", \"7\", \"8\", \"9\", \"10\", \"11\", \"12\", \"13\", \"14\", \"15\", \"16\", \"17\", \"18\", \"19\", \"20\", \"21\", \"23\", \"24\"], \"mode\": \"markers\", \"name\": \"average_precision_score_micro\", \"stepped\": false, \"type\": \"scatter\", \"data\": [0.9997266528530837, 0.9985864006690577, 0.9903707285936099, 0.9923013590519636, 0.989870811783672, 0.9851827953383377, 0.9866810913694881, 0.990956971461076, 0.9743324536219912, 0.9907380558231426, 0.9718467645248503, 0.9901517109049655, 0.9911532663517073, 0.9235342510431248, 0.9802306196042528, 0.8876890852146813, 0.8594667824115131, 0.9907673404114534, 0.9903254415369925, 0.9734787598192856, 0.9776956385433445, 0.9794825624893853, 0.9996118057455381, 0.9996663877571933]}, {\"categories\": [\"0\", \"1\", \"2\", \"3\", \"4\", \"5\", \"6\", \"7\", \"8\", \"9\", \"10\", \"11\", \"12\", \"13\", \"14\", \"15\", \"16\", \"17\", \"18\", \"19\", \"20\", \"21\", \"23\", \"24\"], \"mode\": \"lines\", \"name\": \"average_precision_score_micro_max\", \"stepped\": true, \"type\": \"scatter\", \"data\": [0.9997266528530837, 0.9997266528530837, 0.9997266528530837, 0.9997266528530837, 0.9997266528530837, 0.9997266528530837, 0.9997266528530837, 0.9997266528530837, 0.9997266528530837, 0.9997266528530837, 0.9997266528530837, 0.9997266528530837, 0.9997266528530837, 0.9997266528530837, 0.9997266528530837, 0.9997266528530837, 0.9997266528530837, 0.9997266528530837, 0.9997266528530837, 0.9997266528530837, 0.9997266528530837, 0.9997266528530837, 0.9997266528530837, 0.9997266528530837]}], \"AUC_macro\": [{\"categories\": [\"0\", \"1\", \"2\", \"3\", \"4\", \"5\", \"6\", \"7\", \"8\", \"9\", \"10\", \"11\", \"12\", \"13\", \"14\", \"15\", \"16\", \"17\", \"18\", \"19\", \"20\", \"21\", \"23\", \"24\"], \"mode\": \"markers\", \"name\": \"AUC_macro\", \"stepped\": false, \"type\": \"scatter\", \"data\": [0.9996682546570062, 0.998299155400031, 0.9900306588872578, 0.9895359468986403, 0.9881690336746664, 0.9845021064351154, 0.982346029323378, 0.9899186170173139, 0.9749630610375865, 0.9891216606621764, 0.9626257193626664, 0.9894267262896304, 0.9882913300478813, 0.9403017305972956, 0.9739242477417787, 0.8644111284217542, 0.8421573272648665, 0.9876151322923128, 0.9885043703363448, 0.9686061575619324, 0.9662806573704364, 0.9692950509153344, 0.9995428394338951, 0.9995676073388047]}, {\"categories\": [\"0\", \"1\", \"2\", \"3\", \"4\", \"5\", \"6\", \"7\", \"8\", \"9\", \"10\", \"11\", \"12\", \"13\", \"14\", \"15\", \"16\", \"17\", \"18\", \"19\", \"20\", \"21\", \"23\", \"24\"], \"mode\": \"lines\", \"name\": \"AUC_macro_max\", \"stepped\": true, \"type\": \"scatter\", \"data\": [0.9996682546570062, 0.9996682546570062, 0.9996682546570062, 0.9996682546570062, 0.9996682546570062, 0.9996682546570062, 0.9996682546570062, 0.9996682546570062, 0.9996682546570062, 0.9996682546570062, 0.9996682546570062, 0.9996682546570062, 0.9996682546570062, 0.9996682546570062, 0.9996682546570062, 0.9996682546570062, 0.9996682546570062, 0.9996682546570062, 0.9996682546570062, 0.9996682546570062, 0.9996682546570062, 0.9996682546570062, 0.9996682546570062, 0.9996682546570062]}], \"AUC_micro\": [{\"categories\": [\"0\", \"1\", \"2\", \"3\", \"4\", \"5\", \"6\", \"7\", \"8\", \"9\", \"10\", \"11\", \"12\", \"13\", \"14\", \"15\", \"16\", \"17\", \"18\", \"19\", \"20\", \"21\", \"23\", \"24\"], \"mode\": \"markers\", \"name\": \"AUC_micro\", \"stepped\": false, \"type\": \"scatter\", \"data\": [0.9997238931399122, 0.99856154613741, 0.9900833638498527, 0.9920367849488039, 0.990668532275198, 0.9845312456661277, 0.9865068924883025, 0.9906280961981047, 0.9744721093747071, 0.9904220405065887, 0.9714108001432924, 0.9902583326567125, 0.9915215819281487, 0.9157085698224023, 0.979598541585032, 0.8920616060517126, 0.8524611579223138, 0.9904759647463618, 0.989954051697673, 0.9730674709096169, 0.976773420507892, 0.9787139281683801, 0.999606528188531, 0.9996623838415413]}, {\"categories\": [\"0\", \"1\", \"2\", \"3\", \"4\", \"5\", \"6\", \"7\", \"8\", \"9\", \"10\", \"11\", \"12\", \"13\", \"14\", \"15\", \"16\", \"17\", \"18\", \"19\", \"20\", \"21\", \"23\", \"24\"], \"mode\": \"lines\", \"name\": \"AUC_micro_max\", \"stepped\": true, \"type\": \"scatter\", \"data\": [0.9997238931399122, 0.9997238931399122, 0.9997238931399122, 0.9997238931399122, 0.9997238931399122, 0.9997238931399122, 0.9997238931399122, 0.9997238931399122, 0.9997238931399122, 0.9997238931399122, 0.9997238931399122, 0.9997238931399122, 0.9997238931399122, 0.9997238931399122, 0.9997238931399122, 0.9997238931399122, 0.9997238931399122, 0.9997238931399122, 0.9997238931399122, 0.9997238931399122, 0.9997238931399122, 0.9997238931399122, 0.9997238931399122, 0.9997238931399122]}], \"f1_score_weighted\": [{\"categories\": [\"0\", \"1\", \"2\", \"3\", \"4\", \"5\", \"6\", \"7\", \"8\", \"9\", \"10\", \"11\", \"12\", \"13\", \"14\", \"15\", \"16\", \"17\", \"18\", \"19\", \"20\", \"21\", \"23\", \"24\"], \"mode\": \"markers\", \"name\": \"f1_score_weighted\", \"stepped\": false, \"type\": \"scatter\", \"data\": [0.9918907573715006, 0.977364472266554, 0.9484770325914988, 0.9523056212182599, 0.9491339014313105, 0.9121276261563324, 0.9284765818247103, 0.942468003565248, 0.909514430557183, 0.9455074201531739, 0.9034778981876272, 0.9432252781353875, 0.9535694309147985, 0.7661512465776774, 0.8995938480395287, 0.7723499810569496, 0.731718642677285, 0.9492437544699643, 0.9399912513426107, 0.9062531299629872, 0.9168932094265212, 0.9268202616100703, 0.9909354453093704, 0.9916272610216909]}, {\"categories\": [\"0\", \"1\", \"2\", \"3\", \"4\", \"5\", \"6\", \"7\", \"8\", \"9\", \"10\", \"11\", \"12\", \"13\", \"14\", \"15\", \"16\", \"17\", \"18\", \"19\", \"20\", \"21\", \"23\", \"24\"], \"mode\": \"lines\", \"name\": \"f1_score_weighted_max\", \"stepped\": true, \"type\": \"scatter\", \"data\": [0.9918907573715006, 0.9918907573715006, 0.9918907573715006, 0.9918907573715006, 0.9918907573715006, 0.9918907573715006, 0.9918907573715006, 0.9918907573715006, 0.9918907573715006, 0.9918907573715006, 0.9918907573715006, 0.9918907573715006, 0.9918907573715006, 0.9918907573715006, 0.9918907573715006, 0.9918907573715006, 0.9918907573715006, 0.9918907573715006, 0.9918907573715006, 0.9918907573715006, 0.9918907573715006, 0.9918907573715006, 0.9918907573715006, 0.9918907573715006]}], \"average_precision_score_macro\": [{\"categories\": [\"0\", \"1\", \"2\", \"3\", \"4\", \"5\", \"6\", \"7\", \"8\", \"9\", \"10\", \"11\", \"12\", \"13\", \"14\", \"15\", \"16\", \"17\", \"18\", \"19\", \"20\", \"21\", \"23\", \"24\"], \"mode\": \"markers\", \"name\": \"average_precision_score_macro\", \"stepped\": false, \"type\": \"scatter\", \"data\": [0.9995861055362876, 0.9979375653732523, 0.9893546781914296, 0.9882304363081917, 0.9864474445778477, 0.9826487636214302, 0.9807518950703229, 0.9886340735926278, 0.9757441452099277, 0.9880248662787876, 0.9641768936315402, 0.987725304203089, 0.9868602045230057, 0.9442914352074605, 0.9716637832393082, 0.8426736330703546, 0.81597468945758, 0.9863859586714694, 0.9871510067637952, 0.9678879671598131, 0.9649465641354575, 0.9680168370854481, 0.9994500688112838, 0.9994838776955419]}, {\"categories\": [\"0\", \"1\", \"2\", \"3\", \"4\", \"5\", \"6\", \"7\", \"8\", \"9\", \"10\", \"11\", \"12\", \"13\", \"14\", \"15\", \"16\", \"17\", \"18\", \"19\", \"20\", \"21\", \"23\", \"24\"], \"mode\": \"lines\", \"name\": \"average_precision_score_macro_max\", \"stepped\": true, \"type\": \"scatter\", \"data\": [0.9995861055362876, 0.9995861055362876, 0.9995861055362876, 0.9995861055362876, 0.9995861055362876, 0.9995861055362876, 0.9995861055362876, 0.9995861055362876, 0.9995861055362876, 0.9995861055362876, 0.9995861055362876, 0.9995861055362876, 0.9995861055362876, 0.9995861055362876, 0.9995861055362876, 0.9995861055362876, 0.9995861055362876, 0.9995861055362876, 0.9995861055362876, 0.9995861055362876, 0.9995861055362876, 0.9995861055362876, 0.9995861055362876, 0.9995861055362876]}], \"matthews_correlation\": [{\"categories\": [\"0\", \"1\", \"2\", \"3\", \"4\", \"5\", \"6\", \"7\", \"8\", \"9\", \"10\", \"11\", \"12\", \"13\", \"14\", \"15\", \"16\", \"17\", \"18\", \"19\", \"20\", \"21\", \"23\", \"24\"], \"mode\": \"markers\", \"name\": \"matthews_correlation\", \"stepped\": false, \"type\": \"scatter\", \"data\": [0.981347922431022, 0.9483701497334663, 0.8852710808391904, 0.890153176708298, 0.8841595969004145, 0.8092136006940203, 0.843790019915315, 0.869446451635046, 0.8041807078312184, 0.8759687544587624, 0.7925967732446257, 0.8710261369747978, 0.8935355819221209, 0.5438089287014398, 0.7848125649870525, 0.49877926542994955, 0.5263721012767946, 0.8833599688776261, 0.8632604601071974, 0.798101647311555, 0.8178784228633368, 0.8365775577747764, 0.9791560508419527, 0.9807400327678852]}, {\"categories\": [\"0\", \"1\", \"2\", \"3\", \"4\", \"5\", \"6\", \"7\", \"8\", \"9\", \"10\", \"11\", \"12\", \"13\", \"14\", \"15\", \"16\", \"17\", \"18\", \"19\", \"20\", \"21\", \"23\", \"24\"], \"mode\": \"lines\", \"name\": \"matthews_correlation_max\", \"stepped\": true, \"type\": \"scatter\", \"data\": [0.981347922431022, 0.981347922431022, 0.981347922431022, 0.981347922431022, 0.981347922431022, 0.981347922431022, 0.981347922431022, 0.981347922431022, 0.981347922431022, 0.981347922431022, 0.981347922431022, 0.981347922431022, 0.981347922431022, 0.981347922431022, 0.981347922431022, 0.981347922431022, 0.981347922431022, 0.981347922431022, 0.981347922431022, 0.981347922431022, 0.981347922431022, 0.981347922431022, 0.981347922431022, 0.981347922431022]}], \"accuracy\": [{\"categories\": [\"0\", \"1\", \"2\", \"3\", \"4\", \"5\", \"6\", \"7\", \"8\", \"9\", \"10\", \"11\", \"12\", \"13\", \"14\", \"15\", \"16\", \"17\", \"18\", \"19\", \"20\", \"21\", \"23\", \"24\"], \"mode\": \"markers\", \"name\": \"accuracy\", \"stepped\": false, \"type\": \"scatter\", \"data\": [0.9918933011781192, 0.9775375189427886, 0.9496732878163242, 0.9524108263129594, 0.9495266339682902, 0.9159184604604931, 0.9310401016800014, 0.94211246720657, 0.9135964411999544, 0.9452492300672978, 0.9082680180547182, 0.942853883882742, 0.9540321660773354, 0.7582574263879158, 0.9048135051899168, 0.7938046896641626, 0.7234678746598445, 0.9495673711482997, 0.9396600889700011, 0.9107448385992928, 0.9201306848734703, 0.9289299157555118, 0.9909481986019, 0.9916325832260589]}, {\"categories\": [\"0\", \"1\", \"2\", \"3\", \"4\", \"5\", \"6\", \"7\", \"8\", \"9\", \"10\", \"11\", \"12\", \"13\", \"14\", \"15\", \"16\", \"17\", \"18\", \"19\", \"20\", \"21\", \"23\", \"24\"], \"mode\": \"lines\", \"name\": \"accuracy_max\", \"stepped\": true, \"type\": \"scatter\", \"data\": [0.9918933011781192, 0.9918933011781192, 0.9918933011781192, 0.9918933011781192, 0.9918933011781192, 0.9918933011781192, 0.9918933011781192, 0.9918933011781192, 0.9918933011781192, 0.9918933011781192, 0.9918933011781192, 0.9918933011781192, 0.9918933011781192, 0.9918933011781192, 0.9918933011781192, 0.9918933011781192, 0.9918933011781192, 0.9918933011781192, 0.9918933011781192, 0.9918933011781192, 0.9918933011781192, 0.9918933011781192, 0.9918933011781192, 0.9918933011781192]}], \"norm_macro_recall\": [{\"categories\": [\"0\", \"1\", \"2\", \"3\", \"4\", \"5\", \"6\", \"7\", \"8\", \"9\", \"10\", \"11\", \"12\", \"13\", \"14\", \"15\", \"16\", \"17\", \"18\", \"19\", \"20\", \"21\", \"23\", \"24\"], \"mode\": \"markers\", \"name\": \"norm_macro_recall\", \"stepped\": false, \"type\": \"scatter\", \"data\": [0.980730247311336, 0.933875124784019, 0.8445736042908248, 0.8862166821500647, 0.8702011903980814, 0.7387434224653244, 0.7844460334957775, 0.8793345005229892, 0.730892719011428, 0.8832132724874179, 0.7129177544892255, 0.8822801013367663, 0.8756998861065883, 0.58161912458456, 0.7020885080191799, 0.40104162355484063, 0.5608014316450955, 0.8718390866473712, 0.8727875274696288, 0.7208293767937257, 0.7557153510451677, 0.7881770366628575, 0.9763926955964316, 0.9794945656844202]}, {\"categories\": [\"0\", \"1\", \"2\", \"3\", \"4\", \"5\", \"6\", \"7\", \"8\", \"9\", \"10\", \"11\", \"12\", \"13\", \"14\", \"15\", \"16\", \"17\", \"18\", \"19\", \"20\", \"21\", \"23\", \"24\"], \"mode\": \"lines\", \"name\": \"norm_macro_recall_max\", \"stepped\": true, \"type\": \"scatter\", \"data\": [0.980730247311336, 0.980730247311336, 0.980730247311336, 0.980730247311336, 0.980730247311336, 0.980730247311336, 0.980730247311336, 0.980730247311336, 0.980730247311336, 0.980730247311336, 0.980730247311336, 0.980730247311336, 0.980730247311336, 0.980730247311336, 0.980730247311336, 0.980730247311336, 0.980730247311336, 0.980730247311336, 0.980730247311336, 0.980730247311336, 0.980730247311336, 0.980730247311336, 0.980730247311336, 0.980730247311336]}], \"recall_score_micro\": [{\"categories\": [\"0\", \"1\", \"2\", \"3\", \"4\", \"5\", \"6\", \"7\", \"8\", \"9\", \"10\", \"11\", \"12\", \"13\", \"14\", \"15\", \"16\", \"17\", \"18\", \"19\", \"20\", \"21\", \"23\", \"24\"], \"mode\": \"markers\", \"name\": \"recall_score_micro\", \"stepped\": false, \"type\": \"scatter\", \"data\": [0.9918933011781192, 0.9775375189427886, 0.9496732878163242, 0.9524108263129594, 0.9495266339682902, 0.9159184604604931, 0.9310401016800014, 0.94211246720657, 0.9135964411999544, 0.9452492300672978, 0.9082680180547182, 0.942853883882742, 0.9540321660773354, 0.7582574263879158, 0.9048135051899168, 0.7938046896641626, 0.7234678746598445, 0.9495673711482997, 0.9396600889700011, 0.9107448385992928, 0.9201306848734703, 0.9289299157555118, 0.9909481986019, 0.9916325832260589]}, {\"categories\": [\"0\", \"1\", \"2\", \"3\", \"4\", \"5\", \"6\", \"7\", \"8\", \"9\", \"10\", \"11\", \"12\", \"13\", \"14\", \"15\", \"16\", \"17\", \"18\", \"19\", \"20\", \"21\", \"23\", \"24\"], \"mode\": \"lines\", \"name\": \"recall_score_micro_max\", \"stepped\": true, \"type\": \"scatter\", \"data\": [0.9918933011781192, 0.9918933011781192, 0.9918933011781192, 0.9918933011781192, 0.9918933011781192, 0.9918933011781192, 0.9918933011781192, 0.9918933011781192, 0.9918933011781192, 0.9918933011781192, 0.9918933011781192, 0.9918933011781192, 0.9918933011781192, 0.9918933011781192, 0.9918933011781192, 0.9918933011781192, 0.9918933011781192, 0.9918933011781192, 0.9918933011781192, 0.9918933011781192, 0.9918933011781192, 0.9918933011781192, 0.9918933011781192, 0.9918933011781192]}], \"precision_score_weighted\": [{\"categories\": [\"0\", \"1\", \"2\", \"3\", \"4\", \"5\", \"6\", \"7\", \"8\", \"9\", \"10\", \"11\", \"12\", \"13\", \"14\", \"15\", \"16\", \"17\", \"18\", \"19\", \"20\", \"21\", \"23\", \"24\"], \"mode\": \"markers\", \"name\": \"precision_score_weighted\", \"stepped\": false, \"type\": \"scatter\", \"data\": [0.9918900841233593, 0.9778909318477492, 0.9526780704965976, 0.9522631959984862, 0.9504259507844186, 0.9244374088611749, 0.9374225254668327, 0.9435903549281869, 0.922824344029863, 0.9463370982106554, 0.9191589902578494, 0.9441914130137055, 0.9542472055034723, 0.8161959707711186, 0.9164947059930044, 0.8012483870181024, 0.822257198953918, 0.9496058344206981, 0.9407279583492527, 0.9210206032382489, 0.9268667623359268, 0.9326015721383367, 0.9909493336600479, 0.9916274854584903]}, {\"categories\": [\"0\", \"1\", \"2\", \"3\", \"4\", \"5\", \"6\", \"7\", \"8\", \"9\", \"10\", \"11\", \"12\", \"13\", \"14\", \"15\", \"16\", \"17\", \"18\", \"19\", \"20\", \"21\", \"23\", \"24\"], \"mode\": \"lines\", \"name\": \"precision_score_weighted_max\", \"stepped\": true, \"type\": \"scatter\", \"data\": [0.9918900841233593, 0.9918900841233593, 0.9918900841233593, 0.9918900841233593, 0.9918900841233593, 0.9918900841233593, 0.9918900841233593, 0.9918900841233593, 0.9918900841233593, 0.9918900841233593, 0.9918900841233593, 0.9918900841233593, 0.9918900841233593, 0.9918900841233593, 0.9918900841233593, 0.9918900841233593, 0.9918900841233593, 0.9918900841233593, 0.9918900841233593, 0.9918900841233593, 0.9918900841233593, 0.9918900841233593, 0.9918900841233593, 0.9918900841233593]}], \"f1_score_macro\": [{\"categories\": [\"0\", \"1\", \"2\", \"3\", \"4\", \"5\", \"6\", \"7\", \"8\", \"9\", \"10\", \"11\", \"12\", \"13\", \"14\", \"15\", \"16\", \"17\", \"18\", \"19\", \"20\", \"21\", \"23\", \"24\"], \"mode\": \"markers\", \"name\": \"f1_score_macro\", \"stepped\": false, \"type\": \"scatter\", \"data\": [0.990672886786121, 0.9737829899574487, 0.9395386592395253, 0.9450405082087452, 0.94111133115065, 0.8954084062314001, 0.9153124348286219, 0.9342826782103235, 0.892161145636168, 0.9376559301915178, 0.8846252418990913, 0.9351715968617522, 0.9461123900269583, 0.7487755796225456, 0.8798009918851913, 0.7208225800270787, 0.7191495832653058, 0.9412862170376135, 0.9313972664336836, 0.8880629625635729, 0.9013911436604936, 0.9137644583546781, 0.9895627140075091, 0.9903668288789942]}, {\"categories\": [\"0\", \"1\", \"2\", \"3\", \"4\", \"5\", \"6\", \"7\", \"8\", \"9\", \"10\", \"11\", \"12\", \"13\", \"14\", \"15\", \"16\", \"17\", \"18\", \"19\", \"20\", \"21\", \"23\", \"24\"], \"mode\": \"lines\", \"name\": \"f1_score_macro_max\", \"stepped\": true, \"type\": \"scatter\", \"data\": [0.990672886786121, 0.990672886786121, 0.990672886786121, 0.990672886786121, 0.990672886786121, 0.990672886786121, 0.990672886786121, 0.990672886786121, 0.990672886786121, 0.990672886786121, 0.990672886786121, 0.990672886786121, 0.990672886786121, 0.990672886786121, 0.990672886786121, 0.990672886786121, 0.990672886786121, 0.990672886786121, 0.990672886786121, 0.990672886786121, 0.990672886786121, 0.990672886786121, 0.990672886786121, 0.990672886786121]}], \"recall_score_macro\": [{\"categories\": [\"0\", \"1\", \"2\", \"3\", \"4\", \"5\", \"6\", \"7\", \"8\", \"9\", \"10\", \"11\", \"12\", \"13\", \"14\", \"15\", \"16\", \"17\", \"18\", \"19\", \"20\", \"21\", \"23\", \"24\"], \"mode\": \"markers\", \"name\": \"recall_score_macro\", \"stepped\": false, \"type\": \"scatter\", \"data\": [0.990365123655668, 0.9669375623920096, 0.9222868021454125, 0.9431083410750323, 0.9351005951990408, 0.8693717112326622, 0.8922230167478887, 0.9396672502614947, 0.865446359505714, 0.941606636243709, 0.8564588772446127, 0.9411400506683831, 0.9378499430532942, 0.7908095622922799, 0.8510442540095899, 0.7005208117774203, 0.7804007158225478, 0.9359195433236855, 0.9363937637348144, 0.8604146883968629, 0.8778576755225839, 0.8940885183314288, 0.9881963477982159, 0.98974728284221]}, {\"categories\": [\"0\", \"1\", \"2\", \"3\", \"4\", \"5\", \"6\", \"7\", \"8\", \"9\", \"10\", \"11\", \"12\", \"13\", \"14\", \"15\", \"16\", \"17\", \"18\", \"19\", \"20\", \"21\", \"23\", \"24\"], \"mode\": \"lines\", \"name\": \"recall_score_macro_max\", \"stepped\": true, \"type\": \"scatter\", \"data\": [0.990365123655668, 0.990365123655668, 0.990365123655668, 0.990365123655668, 0.990365123655668, 0.990365123655668, 0.990365123655668, 0.990365123655668, 0.990365123655668, 0.990365123655668, 0.990365123655668, 0.990365123655668, 0.990365123655668, 0.990365123655668, 0.990365123655668, 0.990365123655668, 0.990365123655668, 0.990365123655668, 0.990365123655668, 0.990365123655668, 0.990365123655668, 0.990365123655668, 0.990365123655668, 0.990365123655668]}], \"weighted_accuracy\": [{\"categories\": [\"0\", \"1\", \"2\", \"3\", \"4\", \"5\", \"6\", \"7\", \"8\", \"9\", \"10\", \"11\", \"12\", \"13\", \"14\", \"15\", \"16\", \"17\", \"18\", \"19\", \"20\", \"21\", \"23\", \"24\"], \"mode\": \"markers\", \"name\": \"weighted_accuracy\", \"stepped\": false, \"type\": \"scatter\", \"data\": [0.9930694097756868, 0.9856931407871196, 0.9707421189368046, 0.9595690887563071, 0.9606148562980943, 0.9517317882713915, 0.960914785379096, 0.9439996287298585, 0.9506470261628904, 0.9480577250565034, 0.9481321323231033, 0.9441710201112878, 0.9664846832421983, 0.7331989043673555, 0.9461852807953881, 0.8655808911056634, 0.6796602049752405, 0.9600735144581214, 0.9421726329505846, 0.9494688740841744, 0.9526669516933294, 0.9557370595310647, 0.9930658754064018, 0.9930834026835609]}, {\"categories\": [\"0\", \"1\", \"2\", \"3\", \"4\", \"5\", \"6\", \"7\", \"8\", \"9\", \"10\", \"11\", \"12\", \"13\", \"14\", \"15\", \"16\", \"17\", \"18\", \"19\", \"20\", \"21\", \"23\", \"24\"], \"mode\": \"lines\", \"name\": \"weighted_accuracy_max\", \"stepped\": true, \"type\": \"scatter\", \"data\": [0.9930694097756868, 0.9930694097756868, 0.9930694097756868, 0.9930694097756868, 0.9930694097756868, 0.9930694097756868, 0.9930694097756868, 0.9930694097756868, 0.9930694097756868, 0.9930694097756868, 0.9930694097756868, 0.9930694097756868, 0.9930694097756868, 0.9930694097756868, 0.9930694097756868, 0.9930694097756868, 0.9930694097756868, 0.9930694097756868, 0.9930694097756868, 0.9930694097756868, 0.9930694097756868, 0.9930694097756868, 0.9930694097756868, 0.9930834026835609]}], \"precision_score_micro\": [{\"categories\": [\"0\", \"1\", \"2\", \"3\", \"4\", \"5\", \"6\", \"7\", \"8\", \"9\", \"10\", \"11\", \"12\", \"13\", \"14\", \"15\", \"16\", \"17\", \"18\", \"19\", \"20\", \"21\", \"23\", \"24\"], \"mode\": \"markers\", \"name\": \"precision_score_micro\", \"stepped\": false, \"type\": \"scatter\", \"data\": [0.9918933011781192, 0.9775375189427886, 0.9496732878163242, 0.9524108263129594, 0.9495266339682902, 0.9159184604604931, 0.9310401016800014, 0.94211246720657, 0.9135964411999544, 0.9452492300672978, 0.9082680180547182, 0.942853883882742, 0.9540321660773354, 0.7582574263879158, 0.9048135051899168, 0.7938046896641626, 0.7234678746598445, 0.9495673711482997, 0.9396600889700011, 0.9107448385992928, 0.9201306848734703, 0.9289299157555118, 0.9909481986019, 0.9916325832260589]}, {\"categories\": [\"0\", \"1\", \"2\", \"3\", \"4\", \"5\", \"6\", \"7\", \"8\", \"9\", \"10\", \"11\", \"12\", \"13\", \"14\", \"15\", \"16\", \"17\", \"18\", \"19\", \"20\", \"21\", \"23\", \"24\"], \"mode\": \"lines\", \"name\": \"precision_score_micro_max\", \"stepped\": true, \"type\": \"scatter\", \"data\": [0.9918933011781192, 0.9918933011781192, 0.9918933011781192, 0.9918933011781192, 0.9918933011781192, 0.9918933011781192, 0.9918933011781192, 0.9918933011781192, 0.9918933011781192, 0.9918933011781192, 0.9918933011781192, 0.9918933011781192, 0.9918933011781192, 0.9918933011781192, 0.9918933011781192, 0.9918933011781192, 0.9918933011781192, 0.9918933011781192, 0.9918933011781192, 0.9918933011781192, 0.9918933011781192, 0.9918933011781192, 0.9918933011781192, 0.9918933011781192]}], \"average_precision_score_weighted\": [{\"categories\": [\"0\", \"1\", \"2\", \"3\", \"4\", \"5\", \"6\", \"7\", \"8\", \"9\", \"10\", \"11\", \"12\", \"13\", \"14\", \"15\", \"16\", \"17\", \"18\", \"19\", \"20\", \"21\", \"23\", \"24\"], \"mode\": \"markers\", \"name\": \"average_precision_score_weighted\", \"stepped\": false, \"type\": \"scatter\", \"data\": [0.9996787419515387, 0.9983893832578112, 0.9913334780308186, 0.9906359680657233, 0.9887223534280889, 0.9861451692841172, 0.9842736088381019, 0.9909569087662216, 0.9793417858154421, 0.9903854377762671, 0.9697460918251086, 0.9901339897573922, 0.9891944609940706, 0.9526617708882024, 0.976979198429397, 0.8712747547182731, 0.8530467294421429, 0.9890666031765531, 0.9897623969295686, 0.9733234775236186, 0.9713273380397918, 0.9738243092578636, 0.9995689899292617, 0.9995938863298292]}, {\"categories\": [\"0\", \"1\", \"2\", \"3\", \"4\", \"5\", \"6\", \"7\", \"8\", \"9\", \"10\", \"11\", \"12\", \"13\", \"14\", \"15\", \"16\", \"17\", \"18\", \"19\", \"20\", \"21\", \"23\", \"24\"], \"mode\": \"lines\", \"name\": \"average_precision_score_weighted_max\", \"stepped\": true, \"type\": \"scatter\", \"data\": [0.9996787419515387, 0.9996787419515387, 0.9996787419515387, 0.9996787419515387, 0.9996787419515387, 0.9996787419515387, 0.9996787419515387, 0.9996787419515387, 0.9996787419515387, 0.9996787419515387, 0.9996787419515387, 0.9996787419515387, 0.9996787419515387, 0.9996787419515387, 0.9996787419515387, 0.9996787419515387, 0.9996787419515387, 0.9996787419515387, 0.9996787419515387, 0.9996787419515387, 0.9996787419515387, 0.9996787419515387, 0.9996787419515387, 0.9996787419515387]}], \"f1_score_micro\": [{\"categories\": [\"0\", \"1\", \"2\", \"3\", \"4\", \"5\", \"6\", \"7\", \"8\", \"9\", \"10\", \"11\", \"12\", \"13\", \"14\", \"15\", \"16\", \"17\", \"18\", \"19\", \"20\", \"21\", \"23\", \"24\"], \"mode\": \"markers\", \"name\": \"f1_score_micro\", \"stepped\": false, \"type\": \"scatter\", \"data\": [0.9918933011781192, 0.9775375189427886, 0.9496732878163242, 0.9524108263129593, 0.9495266339682902, 0.9159184604604931, 0.9310401016800014, 0.94211246720657, 0.9135964411999544, 0.9452492300672978, 0.9082680180547182, 0.942853883882742, 0.9540321660773354, 0.7582574263879158, 0.9048135051899168, 0.7938046896641626, 0.7234678746598444, 0.9495673711482997, 0.9396600889700011, 0.9107448385992928, 0.9201306848734703, 0.9289299157555118, 0.9909481986019, 0.9916325832260589]}, {\"categories\": [\"0\", \"1\", \"2\", \"3\", \"4\", \"5\", \"6\", \"7\", \"8\", \"9\", \"10\", \"11\", \"12\", \"13\", \"14\", \"15\", \"16\", \"17\", \"18\", \"19\", \"20\", \"21\", \"23\", \"24\"], \"mode\": \"lines\", \"name\": \"f1_score_micro_max\", \"stepped\": true, \"type\": \"scatter\", \"data\": [0.9918933011781192, 0.9918933011781192, 0.9918933011781192, 0.9918933011781192, 0.9918933011781192, 0.9918933011781192, 0.9918933011781192, 0.9918933011781192, 0.9918933011781192, 0.9918933011781192, 0.9918933011781192, 0.9918933011781192, 0.9918933011781192, 0.9918933011781192, 0.9918933011781192, 0.9918933011781192, 0.9918933011781192, 0.9918933011781192, 0.9918933011781192, 0.9918933011781192, 0.9918933011781192, 0.9918933011781192, 0.9918933011781192, 0.9918933011781192]}]}, \"metricName\": null, \"primaryMetricName\": \"AUC_weighted\", \"showLegend\": false}, \"run_metrics\": [{\"name\": \"experiment_status\", \"run_id\": \"AutoML_194469e3-2784-43c4-b372-fa01c9b00088\", \"categories\": [0, 1, 2, 3, 4, 5, 6, 7, 8, 9, 10, 11], \"series\": [{\"data\": [\"DatasetEvaluation\", \"FeaturesGeneration\", \"DatasetFeaturization\", \"DatasetFeaturizationCompleted\", \"DatasetCrossValidationSplit\", \"ModelSelection\", \"BestRunExplainModel\", \"ModelExplanationDataSetSetup\", \"PickSurrogateModel\", \"EngineeredFeatureExplanations\", \"EngineeredFeatureExplanations\", \"BestRunExplainModel\"]}]}, {\"name\": \"experiment_status_description\", \"run_id\": \"AutoML_194469e3-2784-43c4-b372-fa01c9b00088\", \"categories\": [0, 1, 2, 3, 4, 5, 6, 7, 8, 9, 10, 11], \"series\": [{\"data\": [\"Gathering dataset statistics.\", \"Generating features for the dataset.\", \"Beginning to fit featurizers and featurize the dataset.\", \"Completed fit featurizers and featurizing the dataset.\", \"Generating individually featurized CV splits.\", \"Beginning model selection.\", \"Best run model explanations started\", \"Model explanations data setup completed\", \"Choosing LightGBM as the surrogate model for explanations\", \"Computation of engineered features started\", \"Computation of engineered features completed\", \"Best run model explanations completed\"]}]}, {\"name\": \"balanced_accuracy\", \"run_id\": \"AutoML_194469e3-2784-43c4-b372-fa01c9b00088\", \"categories\": [0], \"series\": [{\"data\": [0.990365123655668]}]}, {\"name\": \"precision_score_macro\", \"run_id\": \"AutoML_194469e3-2784-43c4-b372-fa01c9b00088\", \"categories\": [0], \"series\": [{\"data\": [0.9909830766681618]}]}, {\"name\": \"recall_score_weighted\", \"run_id\": \"AutoML_194469e3-2784-43c4-b372-fa01c9b00088\", \"categories\": [0], \"series\": [{\"data\": [0.9918933011781192]}]}, {\"name\": \"log_loss\", \"run_id\": \"AutoML_194469e3-2784-43c4-b372-fa01c9b00088\", \"categories\": [0], \"series\": [{\"data\": [0.02256009403768483]}]}, {\"name\": \"AUC_weighted\", \"run_id\": \"AutoML_194469e3-2784-43c4-b372-fa01c9b00088\", \"categories\": [0], \"series\": [{\"data\": [0.9996682546570062]}]}, {\"name\": \"average_precision_score_micro\", \"run_id\": \"AutoML_194469e3-2784-43c4-b372-fa01c9b00088\", \"categories\": [0], \"series\": [{\"data\": [0.9997266528530837]}]}, {\"name\": \"AUC_macro\", \"run_id\": \"AutoML_194469e3-2784-43c4-b372-fa01c9b00088\", \"categories\": [0], \"series\": [{\"data\": [0.9996682546570062]}]}, {\"name\": \"AUC_micro\", \"run_id\": \"AutoML_194469e3-2784-43c4-b372-fa01c9b00088\", \"categories\": [0], \"series\": [{\"data\": [0.9997238931399122]}]}, {\"name\": \"f1_score_weighted\", \"run_id\": \"AutoML_194469e3-2784-43c4-b372-fa01c9b00088\", \"categories\": [0], \"series\": [{\"data\": [0.9918907573715006]}]}, {\"name\": \"average_precision_score_macro\", \"run_id\": \"AutoML_194469e3-2784-43c4-b372-fa01c9b00088\", \"categories\": [0], \"series\": [{\"data\": [0.9995861055362876]}]}, {\"name\": \"matthews_correlation\", \"run_id\": \"AutoML_194469e3-2784-43c4-b372-fa01c9b00088\", \"categories\": [0], \"series\": [{\"data\": [0.981347922431022]}]}, {\"name\": \"accuracy\", \"run_id\": \"AutoML_194469e3-2784-43c4-b372-fa01c9b00088\", \"categories\": [0], \"series\": [{\"data\": [0.9918933011781192]}]}, {\"name\": \"norm_macro_recall\", \"run_id\": \"AutoML_194469e3-2784-43c4-b372-fa01c9b00088\", \"categories\": [0], \"series\": [{\"data\": [0.980730247311336]}]}, {\"name\": \"recall_score_micro\", \"run_id\": \"AutoML_194469e3-2784-43c4-b372-fa01c9b00088\", \"categories\": [0], \"series\": [{\"data\": [0.9918933011781192]}]}, {\"name\": \"precision_score_weighted\", \"run_id\": \"AutoML_194469e3-2784-43c4-b372-fa01c9b00088\", \"categories\": [0], \"series\": [{\"data\": [0.9918900841233593]}]}, {\"name\": \"f1_score_macro\", \"run_id\": \"AutoML_194469e3-2784-43c4-b372-fa01c9b00088\", \"categories\": [0], \"series\": [{\"data\": [0.990672886786121]}]}, {\"name\": \"recall_score_macro\", \"run_id\": \"AutoML_194469e3-2784-43c4-b372-fa01c9b00088\", \"categories\": [0], \"series\": [{\"data\": [0.990365123655668]}]}, {\"name\": \"weighted_accuracy\", \"run_id\": \"AutoML_194469e3-2784-43c4-b372-fa01c9b00088\", \"categories\": [0], \"series\": [{\"data\": [0.9930694097756868]}]}, {\"name\": \"precision_score_micro\", \"run_id\": \"AutoML_194469e3-2784-43c4-b372-fa01c9b00088\", \"categories\": [0], \"series\": [{\"data\": [0.9918933011781192]}]}, {\"name\": \"average_precision_score_weighted\", \"run_id\": \"AutoML_194469e3-2784-43c4-b372-fa01c9b00088\", \"categories\": [0], \"series\": [{\"data\": [0.9996787419515387]}]}, {\"name\": \"f1_score_micro\", \"run_id\": \"AutoML_194469e3-2784-43c4-b372-fa01c9b00088\", \"categories\": [0], \"series\": [{\"data\": [0.9918933011781192]}]}], \"run_logs\": \"\\nRun is completed.\", \"graph\": {}, \"widget_settings\": {\"childWidgetDisplay\": \"popup\", \"send_telemetry\": false, \"log_level\": \"INFO\", \"sdk_version\": \"1.16.0\"}, \"loading\": false}"
     },
     "metadata": {},
     "output_type": "display_data"
    }
   ],
   "source": [
    "from azureml.widgets import RunDetails\n",
    "RunDetails(remote_run).show()"
   ]
  },
  {
   "cell_type": "code",
   "execution_count": 14,
   "metadata": {},
   "outputs": [
    {
     "name": "stdout",
     "output_type": "stream",
     "text": [
      "Run(Experiment: udacity-project,\n",
      "Id: AutoML_194469e3-2784-43c4-b372-fa01c9b00088_0,\n",
      "Type: None,\n",
      "Status: Completed)\n",
      "Pipeline(memory=None,\n",
      "         steps=[('datatransformer',\n",
      "                 DataTransformer(enable_dnn=None, enable_feature_sweeping=None,\n",
      "                                 feature_sweeping_config=None,\n",
      "                                 feature_sweeping_timeout=None,\n",
      "                                 featurization_config=None, force_text_dnn=None,\n",
      "                                 is_cross_validation=None,\n",
      "                                 is_onnx_compatible=None, logger=None,\n",
      "                                 observer=None, task=None, working_dir=None)),\n",
      "                ('MaxAbsScaler', MaxAbsScaler(copy...\n",
      "                 LightGBMClassifier(boosting_type='gbdt', class_weight=None,\n",
      "                                    colsample_bytree=1.0,\n",
      "                                    importance_type='split', learning_rate=0.1,\n",
      "                                    max_depth=-1, min_child_samples=20,\n",
      "                                    min_child_weight=0.001, min_split_gain=0.0,\n",
      "                                    n_estimators=100, n_jobs=1, num_leaves=31,\n",
      "                                    objective=None, random_state=None,\n",
      "                                    reg_alpha=0.0, reg_lambda=0.0, silent=True,\n",
      "                                    subsample=1.0, subsample_for_bin=200000,\n",
      "                                    subsample_freq=0, verbose=-10))],\n",
      "         verbose=False)\n"
     ]
    }
   ],
   "source": [
    "\n",
    "best_run, fitted_model = remote_run.get_output()\n",
    "\n",
    "print(best_run)\n",
    "print(fitted_model)"
   ]
  },
  {
   "cell_type": "markdown",
   "metadata": {},
   "source": [
    "## Save and Register the best model from AutoML"
   ]
  },
  {
   "cell_type": "code",
   "execution_count": 48,
   "metadata": {},
   "outputs": [
    {
     "data": {
      "text/html": [
       "['model.pkl']"
      ],
      "text/plain": [
       "['model.pkl']"
      ]
     },
     "execution_count": 48,
     "metadata": {},
     "output_type": "execute_result"
    }
   ],
   "source": [
    "joblib.dump(fitted_model, \"model.pkl\")"
   ]
  },
  {
   "cell_type": "code",
   "execution_count": 49,
   "metadata": {},
   "outputs": [
    {
     "name": "stdout",
     "output_type": "stream",
     "text": [
      "Registering model classification_model\n"
     ]
    }
   ],
   "source": [
    "from azureml.core.model import Model\n",
    "model = Model.register(model_path = \"model.pkl\",\n",
    "                       model_name = \"classification_model\",\n",
    "                       \n",
    "                       description = \"fraudlent detection\",\n",
    "                       workspace = ws)\n"
   ]
  },
  {
   "cell_type": "code",
   "execution_count": 76,
   "metadata": {
    "scrolled": true
   },
   "outputs": [
    {
     "data": {
      "text/plain": [
       "Model(workspace=Workspace.create(name='quick-starts-ws-121947', subscription_id='a7e82b92-bbed-4497-a8df-009b71b94f9c', resource_group='aml-quickstarts-121947'), name=classification_model, id=classification_model:3, version=3, tags={}, properties={})"
      ]
     },
     "execution_count": 76,
     "metadata": {},
     "output_type": "execute_result"
    }
   ],
   "source": [
    "model"
   ]
  },
  {
   "cell_type": "markdown",
   "metadata": {},
   "source": [
    "## Update Score.py file"
   ]
  },
  {
   "cell_type": "code",
   "execution_count": 77,
   "metadata": {},
   "outputs": [
    {
     "name": "stdout",
     "output_type": "stream",
     "text": [
      "Overwriting score.py\n"
     ]
    }
   ],
   "source": [
    "\n",
    "%%writefile score.py\n",
    "import json\n",
    "import numpy as np\n",
    "import os\n",
    "import pickle\n",
    "from sklearn.externals import joblib\n",
    "from sklearn.linear_model import LogisticRegression\n",
    "\n",
    "from azureml.core.model import Model\n",
    "\n",
    "def init():\n",
    "    global model\n",
    "    # retrieve the path to the model file using the model name\n",
    "    model_path = Model.get_model_path('classification_model')\n",
    "    model = joblib.load(model_path)\n",
    "\n",
    "def run(raw_data):\n",
    "    data = np.array(json.loads(raw_data)['data'])\n",
    "    # make prediction\n",
    "    y_hat = model.predict(data)\n",
    "    return json.dumps(y_hat.tolist())"
   ]
  },
  {
   "cell_type": "markdown",
   "metadata": {},
   "source": [
    "## Setup inference Config and Web Service Configuration"
   ]
  },
  {
   "cell_type": "code",
   "execution_count": 85,
   "metadata": {},
   "outputs": [],
   "source": [
    "service_name = 'my-custom-env-service'\n",
    "env = Environment.get(workspace=ws, name=\"AzureML-Tutorial\")\n",
    "env.python.conda_dependencies.add_pip_package(\"scikit-learn\")\n",
    "inference_config = InferenceConfig(entry_script='score.py', environment=env) \n",
    "aci_config = AciWebservice.deploy_configuration(cpu_cores=1, memory_gb=4, enable_app_insights=True)\n"
   ]
  },
  {
   "cell_type": "markdown",
   "metadata": {},
   "source": [
    "## Deploy the Model and Check the Scoring URI"
   ]
  },
  {
   "cell_type": "code",
   "execution_count": 88,
   "metadata": {},
   "outputs": [
    {
     "name": "stdout",
     "output_type": "stream",
     "text": [
      "Tips: You can try get_logs(): https://aka.ms/debugimage#dockerlog or local deployment: https://aka.ms/debugimage#debug-locally to debug if deployment takes longer than 10 minutes.\n",
      "Running............................................\n",
      "Succeeded\n",
      "ACI service creation operation finished, operation \"Succeeded\"\n"
     ]
    }
   ],
   "source": [
    "service = model.deploy(workspace= ws , name = service_name , models =[model],inference_config= inference_config,\n",
    "                      deployment_config=  aci_config)\n",
    "service.wait_for_deployment(show_output= True)"
   ]
  },
  {
   "cell_type": "code",
   "execution_count": 89,
   "metadata": {},
   "outputs": [
    {
     "name": "stdout",
     "output_type": "stream",
     "text": [
      "http://0a269042-9938-4b32-97af-0b543813b94f.westus.azurecontainer.io/score\n",
      "http://0a269042-9938-4b32-97af-0b543813b94f.westus.azurecontainer.io/swagger.json\n"
     ]
    }
   ],
   "source": [
    "print(service.scoring_uri)\n",
    "print(service.swagger_uri)"
   ]
  },
  {
   "cell_type": "code",
   "execution_count": 100,
   "metadata": {},
   "outputs": [],
   "source": [
    "test_new = testData.drop(['label'] ,axis =1)"
   ]
  },
  {
   "cell_type": "code",
   "execution_count": 102,
   "metadata": {},
   "outputs": [
    {
     "data": {
      "text/html": [
       "[[33884.0, 0.32616, 79946.0, 0.0, 2.0, 28.0, 28.0, 4480.0, 2976.0, 168.628887, 31.0, 29.0, 105960.2578, 70394.89844, 7.0, 7.0, 12.06863, 12.059852, 716.385152, 19.053781, 255.0, 1883252194.0, 4031733585.0, 255.0, 0.000826, 0.00054, 0.000286, 160.0, 106.0, 0.0, 0.0, 5.0, 0.0, 3.0, 1.0, 1.0, 2.0, 0.0, 0.0, 0.0, 2.0, 4.0, 0.0]]"
      ],
      "text/plain": [
       "[[33884.0,\n",
       "  0.32616,\n",
       "  79946.0,\n",
       "  0.0,\n",
       "  2.0,\n",
       "  28.0,\n",
       "  28.0,\n",
       "  4480.0,\n",
       "  2976.0,\n",
       "  168.628887,\n",
       "  31.0,\n",
       "  29.0,\n",
       "  105960.2578,\n",
       "  70394.89844,\n",
       "  7.0,\n",
       "  7.0,\n",
       "  12.06863,\n",
       "  12.059852,\n",
       "  716.385152,\n",
       "  19.053781,\n",
       "  255.0,\n",
       "  1883252194.0,\n",
       "  4031733585.0,\n",
       "  255.0,\n",
       "  0.000826,\n",
       "  0.00054,\n",
       "  0.000286,\n",
       "  160.0,\n",
       "  106.0,\n",
       "  0.0,\n",
       "  0.0,\n",
       "  5.0,\n",
       "  0.0,\n",
       "  3.0,\n",
       "  1.0,\n",
       "  1.0,\n",
       "  2.0,\n",
       "  0.0,\n",
       "  0.0,\n",
       "  0.0,\n",
       "  2.0,\n",
       "  4.0,\n",
       "  0.0]]"
      ]
     },
     "execution_count": 102,
     "metadata": {},
     "output_type": "execute_result"
    }
   ],
   "source": [
    "test_new.head(1).values.tolist()"
   ]
  },
  {
   "cell_type": "markdown",
   "metadata": {},
   "source": [
    "## Consume the model "
   ]
  },
  {
   "cell_type": "code",
   "execution_count": 107,
   "metadata": {},
   "outputs": [
    {
     "name": "stdout",
     "output_type": "stream",
     "text": [
      "[1]\n"
     ]
    }
   ],
   "source": [
    "import requests\n",
    "import json\n",
    "\n",
    "# URL for the web service\n",
    "scoring_uri = 'http://0a269042-9938-4b32-97af-0b543813b94f.westus.azurecontainer.io/score'\n",
    "# If the service is authenticated, set the key or token\n",
    "#key = '<your key or token>'\n",
    "\n",
    "# Two sets of data to score, so we get two results back\n",
    "data = {\"data\":\n",
    "            [[33884.0, 0.32616, 79946.0, 0.0, 2.0, 28.0, 28.0, 4480.0, 2976.0, 168.628887, 31.0, 29.0, 105960.2578, 70394.89844, 7.0, 7.0, 12.06863, 12.059852, 716.385152, 19.053781, 255.0, 1883252194.0, 4031733585.0, 255.0, 0.000826, 0.00054, 0.000286, 160.0, 106.0, 0.0, 0.0, 5.0, 0.0, 3.0, 1.0, 1.0, 2.0, 0.0, 0.0, 0.0, 2.0, 4.0, 0.0]]\n",
    "        }\n",
    "# Convert to JSON string\n",
    "input_data = json.dumps(data)\n",
    "\n",
    "# Set the content type\n",
    "headers = {'Content-Type': 'application/json'}\n",
    "# If authentication is enabled, set the authorization header\n",
    "#headers['Authorization'] = f'Bearer {key}'\n",
    "\n",
    "# Make the request and display the response\n",
    "resp = requests.post(scoring_uri, input_data, headers=headers)\n",
    "print(resp.text)"
   ]
  },
  {
   "cell_type": "markdown",
   "metadata": {},
   "source": [
    "## Delete Service"
   ]
  },
  {
   "cell_type": "code",
   "execution_count": 108,
   "metadata": {},
   "outputs": [],
   "source": [
    "service.delete()"
   ]
  },
  {
   "cell_type": "code",
   "execution_count": null,
   "metadata": {},
   "outputs": [],
   "source": []
  }
 ],
 "metadata": {
  "kernel_info": {
   "name": "python3-azureml"
  },
  "kernelspec": {
   "display_name": "Python 3",
   "language": "python",
   "name": "python3"
  },
  "language_info": {
   "codemirror_mode": {
    "name": "ipython",
    "version": 3
   },
   "file_extension": ".py",
   "mimetype": "text/x-python",
   "name": "python",
   "nbconvert_exporter": "python",
   "pygments_lexer": "ipython3",
   "version": "3.7.1"
  },
  "nteract": {
   "version": "nteract-front-end@1.0.0"
  },
  "toc": {
   "base_numbering": 1,
   "nav_menu": {},
   "number_sections": false,
   "sideBar": true,
   "skip_h1_title": false,
   "title_cell": "Table of Contents",
   "title_sidebar": "Contents",
   "toc_cell": false,
   "toc_position": {},
   "toc_section_display": true,
   "toc_window_display": true
  },
  "varInspector": {
   "cols": {
    "lenName": 16,
    "lenType": 16,
    "lenVar": 40
   },
   "kernels_config": {
    "python": {
     "delete_cmd_postfix": "",
     "delete_cmd_prefix": "del ",
     "library": "var_list.py",
     "varRefreshCmd": "print(var_dic_list())"
    },
    "r": {
     "delete_cmd_postfix": ") ",
     "delete_cmd_prefix": "rm(",
     "library": "var_list.r",
     "varRefreshCmd": "cat(var_dic_list()) "
    }
   },
   "types_to_exclude": [
    "module",
    "function",
    "builtin_function_or_method",
    "instance",
    "_Feature"
   ],
   "window_display": false
  }
 },
 "nbformat": 4,
 "nbformat_minor": 2
}
